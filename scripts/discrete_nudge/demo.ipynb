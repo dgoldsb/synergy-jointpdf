{
 "cells": [
  {
   "cell_type": "code",
   "execution_count": 1,
   "metadata": {
    "collapsed": false
   },
   "outputs": [],
   "source": [
    "from discrete_motif import DiscreteGrnMotif\n",
    "import discrete_motif_functions as functions\n",
    "import discrete_motif_operations as operations\n",
    "import discrete_motif_measures as measures\n",
    "import discrete_motif_generator as generator\n",
    "import discrete_motif_plotting as visualize\n",
    "from IPython.display import HTML, display\n",
    "import tabulate"
   ]
  },
  {
   "cell_type": "markdown",
   "metadata": {},
   "source": [
    "# Example 1: X-OR\n",
    "\n",
    "In this example, we demonstrate an X-OR motif, where gene $A_{t=0}$ and $B_{t=0}$ set $B_{t=1}$.\n",
    "\n",
    "First, we we create an empty motif with 1 variable and 2 possible states."
   ]
  },
  {
   "cell_type": "code",
   "execution_count": null,
   "metadata": {
    "collapsed": false
   },
   "outputs": [],
   "source": [
    "motif_xor = DiscreteGrnMotif(1, 2, 'random')"
   ]
  },
  {
   "cell_type": "markdown",
   "metadata": {},
   "source": [
    "We then enter our motif by adding a second gene, defining a rule, setting the decision rule in case of conflicting rules, and then contructing the GRN-object."
   ]
  },
  {
   "cell_type": "code",
   "execution_count": null,
   "metadata": {
    "collapsed": false
   },
   "outputs": [],
   "source": [
    "motif_xor.grn_vars[\"gene_cnt\"] = 2\n",
    "motif_xor.grn_vars[\"conflict_rule\"] = 'totaleffect'\n",
    "motif_xor.append_rule([0, 1], [1], functions.xor)\n",
    "motif_xor.construct_grn()"
   ]
  },
  {
   "cell_type": "markdown",
   "metadata": {},
   "source": [
    "We can now evaluate our motif, one timestep at a time. We do this once so we can look at results."
   ]
  },
  {
   "cell_type": "code",
   "execution_count": null,
   "metadata": {
    "collapsed": false
   },
   "outputs": [],
   "source": [
    "motif_xor.evaluate_motif(genes=[0, 1])"
   ]
  },
  {
   "cell_type": "markdown",
   "metadata": {},
   "source": [
    "We can look at marginalized probability distributions of the system by accessing the states list, which is appended to every time you run the evaluate_motif function. We can also look at the transition state table. Note that the X-OR determines the increase of gene 2, meaning that in the (1, 1) case we still get a 1 returned (namely 1 + 0)."
   ]
  },
  {
   "cell_type": "code",
   "execution_count": null,
   "metadata": {
    "collapsed": false
   },
   "outputs": [],
   "source": [
    "print(\"The states: \")\n",
    "for state in motif_xor.states:\n",
    "    print(state)\n",
    "table = visualize.state_transition_table(motif_xor, 'totaleffect')\n",
    "display(HTML(tabulate.tabulate(table, tablefmt='html')))"
   ]
  },
  {
   "cell_type": "markdown",
   "metadata": {},
   "source": [
    "We can perform several analysis methods on this motif. We find that there is a significant amount of synergy in this system, as we expect. It is also about the amount we should find: there is 2 bits of information mutual information, and 1 bit synergy."
   ]
  },
  {
   "cell_type": "code",
   "execution_count": null,
   "metadata": {
    "collapsed": false
   },
   "outputs": [],
   "source": [
    "print(\"The mutual information: \")\n",
    "print(str(measures.mutual_information(motif_xor, [0]))+\" component 1\")\n",
    "print(str(measures.mutual_information(motif_xor, [1]))+\" component 2\")\n",
    "print(str(measures.mutual_information(motif_xor))+\" total\")\n",
    "print(\"The WMS information: \")\n",
    "print(measures.synergy_wms(motif_xor))\n",
    "print(\"The SRV synergy: \")\n",
    "print(measures.synergy_quax(motif_xor))\n",
    "print(\"The UII synergy: \")\n",
    "print(measures.synergy_uii(motif_xor))\n",
    "print(\"The middle ground synergy approximation: \")\n",
    "print(measures.synergy_middleground(motif_xor))"
   ]
  },
  {
   "cell_type": "markdown",
   "metadata": {},
   "source": [
    "We can examine the decay of mutual information over multiple timesteps with a build-in function. In this case this is not very interesting."
   ]
  },
  {
   "cell_type": "code",
   "execution_count": null,
   "metadata": {
    "collapsed": false
   },
   "outputs": [],
   "source": [
    "print(measures.mi_decay(motif_xor))"
   ]
  },
  {
   "cell_type": "markdown",
   "metadata": {},
   "source": [
    "Finally, we can reset the state, nudge 2 genes with a 0.5-impact nudge. After doing so, we can assess the nudge impact by comparing the state after our initial timestep, with the state after nudging and moving ahead one timestep."
   ]
  },
  {
   "cell_type": "code",
   "execution_count": null,
   "metadata": {
    "collapsed": false
   },
   "outputs": [],
   "source": [
    "motif_xor.reset_to_state(0)\n",
    "operations.nudge_variable(motif_xor, 2, 0.5)\n",
    "motif_xor.evaluate_motif()\n",
    "print(\"The nudge impact: \")\n",
    "print(measures.hellinger(motif_xor.states[1], motif_xor.states[-1]))"
   ]
  },
  {
   "cell_type": "markdown",
   "metadata": {
    "collapsed": true
   },
   "source": [
    "# Example 2: AND\n",
    "\n",
    "We can perform the same steps with an AND-gate."
   ]
  },
  {
   "cell_type": "code",
   "execution_count": null,
   "metadata": {
    "collapsed": false
   },
   "outputs": [],
   "source": [
    "motif_and = DiscreteGrnMotif(1, 2, 'random')\n",
    "motif_and.grn_vars[\"gene_cnt\"] = 2\n",
    "motif_and.grn_vars[\"conflict_rule\"] = 'totaleffect'\n",
    "motif_and.append_rule([0, 1], [1], functions.plus_and)\n",
    "motif_and.construct_grn()\n",
    "motif_and.evaluate_motif(genes=[0, 1])\n",
    "print(\"The states: \")\n",
    "for state in motif_and.states:\n",
    "    print(state)\n",
    "table = visualize.state_transition_table(motif_and, 'totaleffect')\n",
    "display(HTML(tabulate.tabulate(table, tablefmt='html')))"
   ]
  },
  {
   "cell_type": "markdown",
   "metadata": {},
   "source": [
    "After initiating, we can do our synergy and nudge impact analysis."
   ]
  },
  {
   "cell_type": "code",
   "execution_count": null,
   "metadata": {
    "collapsed": false
   },
   "outputs": [],
   "source": [
    "print(\"The mutual information: \")\n",
    "print(measures.mutual_information(motif_and))\n",
    "print(\"The WMS information: \")\n",
    "print(measures.synergy_wms(motif_and))\n",
    "print(\"The middle ground synergy approximation: \")\n",
    "print(measures.synergy_middleground(motif_and))\n",
    "print(\"The memory: \")\n",
    "print(measures.mi_decay(motif_and))\n",
    "motif_and.reset_to_state(0)\n",
    "operations.nudge_variable(motif_and, 2, 0.5)\n",
    "motif_and.evaluate_motif()\n",
    "print(\"The nudge impact: \")\n",
    "print(measures.hellinger(motif_and.states[1], motif_and.states[-1]))"
   ]
  },
  {
   "cell_type": "markdown",
   "metadata": {
    "collapsed": true
   },
   "source": [
    "# Example 3: random motifs\n",
    "\n",
    "To do randomized experiments, we also support the generation of random motifs. These motifs incorporate random relationships between genes, drawn from a library of all possible relations in a GRN motif.\n",
    "\n",
    "First, we generate a single random motif of 2 genes, with 2 relationships."
   ]
  },
  {
   "cell_type": "code",
   "execution_count": null,
   "metadata": {
    "collapsed": false
   },
   "outputs": [],
   "source": [
    "motifs, _ = generator.generate_motifs(samplesize=2, no_nodes=2, indegree=1, conflict_rule='totaleffect')\n",
    "motif_rand = motifs[0]\n",
    "motif_rand.evaluate_motif(genes=[0, 1])\n",
    "print(\"The states: \")\n",
    "for state in motif_rand.states:\n",
    "    print(state)\n",
    "table = visualize.state_transition_table(motif_rand, 'totaleffect')\n",
    "display(HTML(tabulate.tabulate(table, tablefmt='html')))"
   ]
  },
  {
   "cell_type": "markdown",
   "metadata": {},
   "source": [
    "We then can do our usual analysis."
   ]
  },
  {
   "cell_type": "code",
   "execution_count": null,
   "metadata": {
    "collapsed": false
   },
   "outputs": [],
   "source": [
    "print(\"The rules: \")\n",
    "print(motif_rand.grn_vars[\"rules\"])\n",
    "print(\"The correlations: \")\n",
    "print(motif_rand.grn_vars[\"correlations\"])\n",
    "print(\"The mutual information: \")\n",
    "print(measures.mutual_information(motif_rand))\n",
    "print(\"The WMS information: \")\n",
    "print(measures.synergy_wms(motif_rand))\n",
    "print(\"The middle ground synergy approximation: \")\n",
    "print(measures.synergy_middleground(motif_rand))\n",
    "print(\"The memory: \")\n",
    "print(measures.mi_decay(motif_rand))\n",
    "motif_rand.reset_to_state(0)\n",
    "operations.nudge_variable(motif_rand, 2, 0.5)\n",
    "motif_rand.evaluate_motif()\n",
    "print(\"The nudge impact: \")\n",
    "print(measures.hellinger(motif_rand.states[1], motif_rand.states[-1]))"
   ]
  },
  {
   "cell_type": "markdown",
   "metadata": {
    "collapsed": true
   },
   "source": [
    "# Example 4: multivalued logic (3 levels)\n",
    "\n",
    "The SRV measure should work better for higher-valued logic, we try this out too. We should check the correlation matrix generated, this should be something sensible."
   ]
  },
  {
   "cell_type": "code",
   "execution_count": 2,
   "metadata": {
    "collapsed": false
   },
   "outputs": [
    {
     "name": "stdout",
     "output_type": "stream",
     "text": [
      "The states: \n",
      "[[[ 0.02302128  0.0266968   0.00887236]\n",
      "  [ 0.01322066  0.01396102  0.02531221]\n",
      "  [ 0.04703992  0.05937952  0.02547019]]\n",
      "\n",
      " [[ 0.05597212  0.03755121  0.05954974]\n",
      "  [ 0.05922233  0.06046341  0.05508478]\n",
      "  [ 0.03146739  0.0531337   0.03031707]]\n",
      "\n",
      " [[ 0.02230604  0.04571421  0.05537438]\n",
      "  [ 0.04812822  0.00760127  0.0080223 ]\n",
      "  [ 0.04004123  0.04555277  0.0415239 ]]]\n",
      "[[[ 0.20217628  0.0  0.0]\n",
      "  [ 0.12379647  0.0  0.0]\n",
      "  [ 0.0  0.0  0.0]]\n",
      "\n",
      " [[ 0.0  0.069345956  0.0]\n",
      "  [ 0.0  0.0  0.0]\n",
      "  [ 0.0  0.0  0.0]]\n",
      "\n",
      " [[ 0.0  0.0  0.17885915]\n",
      "  [ 0.0  0.0  0.0]\n",
      "  [ 0.0  0.24009168  0.18573046]]]\n",
      "The correlations: \n",
      "[[  0.00000000e+000  -4.99993801e-001   2.46811425e-003]\n",
      " [ -4.99993801e-001   6.92745162e-310  -4.93628969e-003]\n",
      " [  2.46811425e-003  -4.93628969e-003   6.92745835e-310]]\n"
     ]
    },
    {
     "data": {
      "text/html": [
       "<table>\n",
       "<tbody>\n",
       "<tr><td>Gene 0 t=0</td><td>Gene 1 t=0</td><td>Gene 2 t=0</td><td>Gene 0 t=1</td><td>Gene 1 t=1</td><td>Gene 2 t=1</td></tr>\n",
       "<tr><td>0         </td><td>0         </td><td>0         </td><td>0         </td><td>0         </td><td>0         </td></tr>\n",
       "<tr><td>0         </td><td>0         </td><td>1         </td><td>0         </td><td>0         </td><td>0         </td></tr>\n",
       "<tr><td>0         </td><td>0         </td><td>2         </td><td>0         </td><td>0         </td><td>0         </td></tr>\n",
       "<tr><td>0         </td><td>1         </td><td>0         </td><td>0         </td><td>0         </td><td>1         </td></tr>\n",
       "<tr><td>0         </td><td>1         </td><td>1         </td><td>2         </td><td>2         </td><td>0         </td></tr>\n",
       "<tr><td>0         </td><td>1         </td><td>2         </td><td>2         </td><td>2         </td><td>0         </td></tr>\n",
       "<tr><td>0         </td><td>2         </td><td>0         </td><td>1         </td><td>1         </td><td>2         </td></tr>\n",
       "<tr><td>0         </td><td>2         </td><td>1         </td><td>2         </td><td>2         </td><td>1         </td></tr>\n",
       "<tr><td>0         </td><td>2         </td><td>2         </td><td>2         </td><td>2         </td><td>0         </td></tr>\n",
       "<tr><td>1         </td><td>0         </td><td>0         </td><td>0         </td><td>0         </td><td>0         </td></tr>\n",
       "<tr><td>1         </td><td>0         </td><td>1         </td><td>0         </td><td>0         </td><td>0         </td></tr>\n",
       "<tr><td>1         </td><td>0         </td><td>2         </td><td>0         </td><td>0         </td><td>0         </td></tr>\n",
       "<tr><td>1         </td><td>1         </td><td>0         </td><td>2         </td><td>1         </td><td>0         </td></tr>\n",
       "<tr><td>1         </td><td>1         </td><td>1         </td><td>2         </td><td>2         </td><td>1         </td></tr>\n",
       "<tr><td>1         </td><td>1         </td><td>2         </td><td>2         </td><td>2         </td><td>0         </td></tr>\n",
       "<tr><td>1         </td><td>2         </td><td>0         </td><td>2         </td><td>2         </td><td>1         </td></tr>\n",
       "<tr><td>1         </td><td>2         </td><td>1         </td><td>2         </td><td>2         </td><td>2         </td></tr>\n",
       "<tr><td>1         </td><td>2         </td><td>2         </td><td>2         </td><td>2         </td><td>1         </td></tr>\n",
       "<tr><td>2         </td><td>0         </td><td>0         </td><td>1         </td><td>0         </td><td>0         </td></tr>\n",
       "<tr><td>2         </td><td>0         </td><td>1         </td><td>0         </td><td>0         </td><td>0         </td></tr>\n",
       "<tr><td>2         </td><td>0         </td><td>2         </td><td>0         </td><td>0         </td><td>0         </td></tr>\n",
       "<tr><td>2         </td><td>1         </td><td>0         </td><td>2         </td><td>0         </td><td>0         </td></tr>\n",
       "<tr><td>2         </td><td>1         </td><td>1         </td><td>2         </td><td>2         </td><td>0         </td></tr>\n",
       "<tr><td>2         </td><td>1         </td><td>2         </td><td>2         </td><td>2         </td><td>1         </td></tr>\n",
       "<tr><td>2         </td><td>2         </td><td>0         </td><td>2         </td><td>2         </td><td>0         </td></tr>\n",
       "<tr><td>2         </td><td>2         </td><td>1         </td><td>2         </td><td>2         </td><td>1         </td></tr>\n",
       "<tr><td>2         </td><td>2         </td><td>2         </td><td>2         </td><td>2         </td><td>2         </td></tr>\n",
       "</tbody>\n",
       "</table>"
      ],
      "text/plain": [
       "<IPython.core.display.HTML object>"
      ]
     },
     "metadata": {},
     "output_type": "display_data"
    }
   ],
   "source": [
    "motifs, _ = generator.generate_motifs(samplesize=1, no_nodes=3, indegree=3, conflict_rule='totaleffect', numvalues=3)\n",
    "motif_rand = motifs[0]\n",
    "motif_rand.evaluate_motif()\n",
    "print(\"The states: \")\n",
    "for state in motif_rand.states:\n",
    "    print(state)\n",
    "print(\"The correlations: \")\n",
    "print(motif_rand.grn_vars[\"correlations\"])\n",
    "\n",
    "table = visualize.state_transition_table(motif_rand, 'totaleffect')\n",
    "display(HTML(tabulate.tabulate(table, tablefmt='html')))"
   ]
  },
  {
   "cell_type": "markdown",
   "metadata": {},
   "source": [
    "We then can do our usual analysis."
   ]
  },
  {
   "cell_type": "code",
   "execution_count": null,
   "metadata": {
    "collapsed": false
   },
   "outputs": [],
   "source": [
    "print(\"The rules: \")\n",
    "print(motif_rand.grn_vars[\"rules\"])\n",
    "print(\"The mutual information: \")\n",
    "print(measures.mutual_information(motif_rand))\n",
    "print(\"The WMS information: \")\n",
    "print(measures.synergy_wms(motif_rand))\n",
    "print(\"The middle ground synergy approximation: \")\n",
    "print(measures.synergy_middleground(motif_rand))\n",
    "print(\"The memory: \")\n",
    "print(measures.mi_decay(motif_rand))\n",
    "motif_rand.reset_to_state(0)\n",
    "operations.nudge_variable(motif_rand, 2, 0.5)\n",
    "motif_rand.evaluate_motif()\n",
    "print(\"The nudge impact: \")\n",
    "print(measures.hellinger(motif_rand.states[1], motif_rand.states[-1]))"
   ]
  },
  {
   "cell_type": "markdown",
   "metadata": {
    "collapsed": true
   },
   "source": [
    "The SRV synergy should be easier to compute in this case."
   ]
  },
  {
   "cell_type": "code",
   "execution_count": null,
   "metadata": {
    "collapsed": false
   },
   "outputs": [],
   "source": [
    "print(\"The SRV synergy: \")\n",
    "print(measures.synergy_quax(motif_rand))"
   ]
  },
  {
   "cell_type": "code",
   "execution_count": null,
   "metadata": {
    "collapsed": true
   },
   "outputs": [],
   "source": []
  }
 ],
 "metadata": {
  "kernelspec": {
   "display_name": "Python 2",
   "language": "python",
   "name": "python2"
  },
  "language_info": {
   "codemirror_mode": {
    "name": "ipython",
    "version": 2
   },
   "file_extension": ".py",
   "mimetype": "text/x-python",
   "name": "python",
   "nbconvert_exporter": "python",
   "pygments_lexer": "ipython2",
   "version": "2.7.13"
  }
 },
 "nbformat": 4,
 "nbformat_minor": 1
}
