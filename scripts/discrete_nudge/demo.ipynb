{
 "cells": [
  {
   "cell_type": "code",
   "execution_count": 1,
   "metadata": {
    "collapsed": true
   },
   "outputs": [],
   "source": [
    "from discrete_motif import DiscreteGrnMotif\n",
    "import discrete_motif_functions as functions\n",
    "import discrete_motif_operations as operations\n",
    "import discrete_motif_measures as measures\n",
    "import discrete_motif_generator as generator"
   ]
  },
  {
   "cell_type": "markdown",
   "metadata": {},
   "source": [
    "# Example 1: X-OR\n",
    "\n",
    "In this example, we demonstrate an X-OR motif, where gene $A_{t=0}$ and $B_{t=0}$ set $B_{t=1}$.\n",
    "\n",
    "First, we we create an empty motif with 1 variable and 2 possible states."
   ]
  },
  {
   "cell_type": "code",
   "execution_count": 2,
   "metadata": {
    "collapsed": true
   },
   "outputs": [],
   "source": [
    "motif_xor = DiscreteGrnMotif(1, 2, 'random')"
   ]
  },
  {
   "cell_type": "markdown",
   "metadata": {},
   "source": [
    "We then enter our motif by adding a second gene, defining a rule, and then contructing the GRN-object."
   ]
  },
  {
   "cell_type": "code",
   "execution_count": 3,
   "metadata": {
    "collapsed": true
   },
   "outputs": [],
   "source": [
    "motif_xor.grn_vars[\"gene_cnt\"] = 2\n",
    "motif_xor.append_rule([0, 1], [1], functions.xor)\n",
    "motif_xor.construct_grn()"
   ]
  },
  {
   "cell_type": "markdown",
   "metadata": {},
   "source": [
    "We can now evaluate our motif, one timestep at a time. We do this once so we can look at results."
   ]
  },
  {
   "cell_type": "code",
   "execution_count": 4,
   "metadata": {
    "collapsed": true
   },
   "outputs": [],
   "source": [
    "motif_xor.evaluate_motif(genes=[0, 1])"
   ]
  },
  {
   "cell_type": "markdown",
   "metadata": {},
   "source": [
    "We can look at marginalized probability distributions of the system by accessing the states list, which is appended to every time you run the evaluate_motif function."
   ]
  },
  {
   "cell_type": "code",
   "execution_count": 6,
   "metadata": {
    "collapsed": false
   },
   "outputs": [
    {
     "name": "stdout",
     "output_type": "stream",
     "text": [
      "[[ 0.31618422  0.20148153]\n",
      " [ 0.22011702  0.26221723]]\n",
      "[[ 0.31618422  0.20148153]\n",
      " [ 0.26221723  0.22011702]]\n"
     ]
    }
   ],
   "source": [
    "print(motif_xor.states[0])\n",
    "print(motif_xor.states[1])"
   ]
  },
  {
   "cell_type": "markdown",
   "metadata": {},
   "source": [
    "We can perform several analysis methods on this motif. We find that there is a significant amount of synergy in this system, as we expect. It is also about the amount we should find: there is 2 bits of information mutual information, and 1 bit synergy."
   ]
  },
  {
   "cell_type": "code",
   "execution_count": 7,
   "metadata": {
    "collapsed": false
   },
   "outputs": [
    {
     "name": "stdout",
     "output_type": "stream",
     "text": [
      "The mutual information: \n",
      "1.97795882824\n",
      "The WMS information: \n",
      "0.480762313303\n",
      "The Rick information: \n",
      "0.982190718003\n"
     ]
    }
   ],
   "source": [
    "print(\"The mutual information: \")\n",
    "print(measures.mutual_information(motif_xor))\n",
    "print(\"The WMS information: \")\n",
    "print(measures.synergy_wms(motif_xor))\n",
    "print(\"The Rick information: \")\n",
    "print(measures.synergy_quax(motif_xor))"
   ]
  },
  {
   "cell_type": "markdown",
   "metadata": {},
   "source": [
    "We can examine the decay of mutual information over multiple timesteps with a build-in function. In this case this is not very interesting."
   ]
  },
  {
   "cell_type": "code",
   "execution_count": 8,
   "metadata": {
    "collapsed": false
   },
   "outputs": [
    {
     "name": "stdout",
     "output_type": "stream",
     "text": [
      "[1.9779588282415658249, 1.9779588282415658249, 1.9779588282415658249, 1.9779588282415658249, 1.9779588282415658249, 1.9779588282415658249, 1.9779588282415658249, 1.9779588282415658249, 1.9779588282415658249]\n"
     ]
    }
   ],
   "source": [
    "print(measures.mi_decay(motif_xor))"
   ]
  },
  {
   "cell_type": "markdown",
   "metadata": {},
   "source": [
    "Finally, we can reset the state, nudge 2 genes with a 0.5-impact nudge. After doing so, we can assess the nudge impact by comparing the state after our initial timestep, with the state after nudging and moving ahead one timestep."
   ]
  },
  {
   "cell_type": "code",
   "execution_count": 9,
   "metadata": {
    "collapsed": false
   },
   "outputs": [
    {
     "name": "stdout",
     "output_type": "stream",
     "text": [
      "The nudge impact: \n",
      "0.468247241125\n"
     ]
    }
   ],
   "source": [
    "motif_xor.reset_to_state(0)\n",
    "operations.nudge_variable(motif_xor, 2, 0.5)\n",
    "motif_xor.evaluate_motif()\n",
    "print(\"The nudge impact: \")\n",
    "print(measures.hellinger(motif_xor.states[1], motif_xor.states[-1]))"
   ]
  },
  {
   "cell_type": "code",
   "execution_count": null,
   "metadata": {
    "collapsed": true
   },
   "outputs": [],
   "source": []
  }
 ],
 "metadata": {
  "kernelspec": {
   "display_name": "Python 2",
   "language": "python",
   "name": "python2"
  },
  "language_info": {
   "codemirror_mode": {
    "name": "ipython",
    "version": 2
   },
   "file_extension": ".py",
   "mimetype": "text/x-python",
   "name": "python",
   "nbconvert_exporter": "python",
   "pygments_lexer": "ipython2",
   "version": "2.7.13"
  }
 },
 "nbformat": 4,
 "nbformat_minor": 1
}
