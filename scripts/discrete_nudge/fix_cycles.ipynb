{
 "cells": [
  {
   "cell_type": "code",
   "execution_count": null,
   "metadata": {
    "collapsed": true
   },
   "outputs": [],
   "source": [
    "from discrete_motif import DiscreteGrnMotif\n",
    "import discrete_motif_functions as functions\n",
    "import discrete_motif_generator as generator\n",
    "import discrete_motif_plotting as visualize\n",
    "import discrete_motif_measures as measures\n",
    "from IPython.display import HTML, display\n",
    "import tabulate\n",
    "\n",
    "from copy import deepcopy\n",
    "import numpy as np\n",
    "import os\n",
    "import pickle\n",
    "import random"
   ]
  },
  {
   "cell_type": "code",
   "execution_count": null,
   "metadata": {
    "collapsed": false
   },
   "outputs": [],
   "source": [
    "sample_size = 20\n",
    "network_size = 2\n",
    "logic_size = 2\n",
    "samples = []\n",
    "samples.append(generator.generate_random(sample_size, network_size, logic_size))\n",
    "samples.append(generator.generate_motifs(sample_size, network_size, logic_size, [4], 'totaleffect', 0.75)[0])\n",
    "\n",
    "random_cycles = []\n",
    "bio_cycles = []\n",
    "for sample in samples[0]:\n",
    "    print(sample.is_cyclical())\n",
    "    lengths = [len(x) for x in sample.is_cyclical()]\n",
    "    if len(lengths) == 0:\n",
    "        lengths = [0]\n",
    "    avg_length = int(np.max(lengths))\n",
    "    random_cycles.append(avg_length)\n",
    "for sample in samples[1]:\n",
    "    lengths = [len(x) for x in sample.is_cyclical()]\n",
    "    if len(lengths) == 0:\n",
    "        lengths = [0]\n",
    "    avg_length = int(np.max(lengths))\n",
    "    bio_cycles.append(avg_length)\n",
    "\n",
    "colors = [\"r\", \"b\"]\n",
    "labels = [\"random\", \"biological random\"]\n",
    "title = \"Distribution of cycle lengths (0 if no cycle is present)\"\n",
    "axes_labels = [\"Maximum length of cycle in motif\", \"Number of occurences\"]\n",
    "visualize.plot_bar([random_cycles, bio_cycles], colors, labels, title, axes_labels=axes_labels)"
   ]
  },
  {
   "cell_type": "code",
   "execution_count": null,
   "metadata": {
    "collapsed": true
   },
   "outputs": [],
   "source": []
  }
 ],
 "metadata": {
  "kernelspec": {
   "display_name": "Python 2",
   "language": "python",
   "name": "python2"
  },
  "language_info": {
   "codemirror_mode": {
    "name": "ipython",
    "version": 2
   },
   "file_extension": ".py",
   "mimetype": "text/x-python",
   "name": "python",
   "nbconvert_exporter": "python",
   "pygments_lexer": "ipython2",
   "version": "2.7.13"
  }
 },
 "nbformat": 4,
 "nbformat_minor": 1
}
