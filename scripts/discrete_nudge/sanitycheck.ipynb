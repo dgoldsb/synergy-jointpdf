{
 "cells": [
  {
   "cell_type": "markdown",
   "metadata": {},
   "source": [
    "# Find biological motifs\n",
    "\n",
    "To make sure our sampling strategy makes sense, we manually enter a few biological motifs.\n",
    "We then look for these motifs in a large random sample, as well as in a large biological random sample.\n",
    "If everything is correct, we should find the real motifs more frequently in the latter sample than in the former."
   ]
  },
  {
   "cell_type": "code",
   "execution_count": null,
   "metadata": {
    "collapsed": true
   },
   "outputs": [],
   "source": [
    "from discrete_motif import DiscreteGrnMotif\n",
    "import discrete_motif_generator as generator\n",
    "import discrete_motif_plotting as visualize\n",
    "\n",
    "from copy import deepcopy\n",
    "import numpy as np\n",
    "import os\n",
    "import pickle\n",
    "import random"
   ]
  },
  {
   "cell_type": "code",
   "execution_count": null,
   "metadata": {
    "collapsed": true
   },
   "outputs": [],
   "source": [
    "# define a few motifs\n",
    "real_motifs = []"
   ]
  },
  {
   "cell_type": "code",
   "execution_count": null,
   "metadata": {
    "collapsed": false
   },
   "outputs": [],
   "source": [
    "# load data back, start from this step to use previous run\n",
    "directory = \"../data\"\n",
    "name = \"samples.pkl\"\n",
    "\n",
    "with open(os.path.join(directory, name), 'rb') as input:\n",
    "    samples = pickle.load(input)"
   ]
  },
  {
   "cell_type": "code",
   "execution_count": null,
   "metadata": {
    "collapsed": false
   },
   "outputs": [],
   "source": [
    "for i in range(0, len(samples)):\n",
    "    args = (samples[i][\"network_size\"], samples[i][\"logic_size\"], samples[i][\"nudge_size\"], sample[2][-1][0])\n",
    "    print(\"Using %s nodes, %s-valued logic, and %s-epsilon %s-target nudge\" % args)\n",
    "    sample_random = []\n",
    "    sample_bio = []\n",
    "    \n",
    "    for sample in samples[i][\"random_tables\"]:\n",
    "        sample_random.append(sample[0])\n",
    "    for sample in samples[i][\"bio_tables\"]:\n",
    "        sample_bio.append(sample[0])\n",
    "\n",
    "    bio_total = 0\n",
    "    random_total = 0\n",
    "    bio_matched_motifs = []\n",
    "    random_matched_motifs = []\n",
    "    \n",
    "    # to test, it seems to work :)\n",
    "    # can we find the real thing?\n",
    "    real_motifs = [sample_random[0]]\n",
    "    # can we find a shuffled version?\n",
    "    permuted_motif = deepcopy(real_motifs[0])\n",
    "    mapping = list(range(0, permuted_motif.grn_vars[\"gene_cnt\"]))\n",
    "    random.shuffle(mapping)\n",
    "    print(\"Shuffled to %s\" % (mapping))\n",
    "    permuted_table = permuted_motif.permute_transition_table(mapping)\n",
    "    permuted_motif.transition_table = permuted_table\n",
    "    real_motifs.append(permuted_motif)\n",
    "    \n",
    "    for real_motif in real_motifs:\n",
    "        random_matches = real_motif.find_in_sample(sample_random, strict=False)\n",
    "        bio_matches = real_motif.find_in_sample(sample_bio, strict=False)\n",
    "\n",
    "        if len(random_matches) > 0:\n",
    "            random_total += len(random_matches)\n",
    "            random_matched_motifs.append(real_motif)\n",
    "        if len(bio_matches) > 0:\n",
    "            bio_total += len(bio_matches)\n",
    "            bio_matched_motifs.append(real_motif)\n",
    "\n",
    "    args = (bio_total, len(bio_matched_motifs), len(real_motifs))\n",
    "    print(\"Found %d matches in the bio sample, for a total of %d out of %d real motifs.\" % args)\n",
    "    args = (random_total, len(random_matched_motifs), len(real_motifs))\n",
    "    print(\"Found %d matches in the random sample, for a total of %d out of %d real motifs.\" % args)"
   ]
  },
  {
   "cell_type": "markdown",
   "metadata": {},
   "source": [
    "# Finding cycles in our samples"
   ]
  },
  {
   "cell_type": "code",
   "execution_count": null,
   "metadata": {
    "collapsed": false
   },
   "outputs": [],
   "source": [
    "for i in range(0, len(samples)):\n",
    "    args = (samples[i][\"network_size\"], samples[i][\"logic_size\"], samples[i][\"nudge_size\"], sample[2][-1][0])\n",
    "    print(\"Using %s nodes, %s-valued logic, and %s-epsilon %s-target nudge\" % args)\n",
    "    random_cycles = []\n",
    "    bio_cycles = []\n",
    "    for sample in samples[i][\"random_tables\"]:\n",
    "        lengths = [len(x) for x in sample[0].is_cyclical()]\n",
    "        if len(lengths) == 0:\n",
    "            lengths = [0]\n",
    "        avg_length = int(np.mean(lengths))\n",
    "        random_cycles.append(avg_length)\n",
    "    for sample in samples[i][\"bio_tables\"]:\n",
    "        lengths = [len(x) for x in sample[0].is_cyclical()]\n",
    "        if len(lengths) == 0:\n",
    "            lengths = [0]\n",
    "        avg_length = int(np.mean(lengths))\n",
    "        bio_cycles.append(avg_length)\n",
    "    \n",
    "    colors = [\"r\", \"b\"]\n",
    "    labels = [\"random\", \"biological random\"]\n",
    "    title = \"Distribution of cycle lengths (0 if no cycle is present)\"\n",
    "    axes_labels = [\"Average length of cycle in motif\", \"Number of occurences\"]\n",
    "    visualize.plot_bar([random_cycles, bio_cycles], colors, labels, title, axes_labels=axes_labels)"
   ]
  },
  {
   "cell_type": "code",
   "execution_count": null,
   "metadata": {
    "collapsed": true
   },
   "outputs": [],
   "source": []
  }
 ],
 "metadata": {
  "kernelspec": {
   "display_name": "Python 2",
   "language": "python",
   "name": "python2"
  },
  "language_info": {
   "codemirror_mode": {
    "name": "ipython",
    "version": 2
   },
   "file_extension": ".py",
   "mimetype": "text/x-python",
   "name": "python",
   "nbconvert_exporter": "python",
   "pygments_lexer": "ipython2",
   "version": "2.7.13"
  }
 },
 "nbformat": 4,
 "nbformat_minor": 1
}
