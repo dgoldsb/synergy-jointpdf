{
 "cells": [
  {
   "cell_type": "markdown",
   "metadata": {},
   "source": [
    "# Find biological motifs\n",
    "\n",
    "To make sure our sampling strategy makes sense, we manually enter a few biological motifs.\n",
    "We then look for these motifs in a large random sample, as well as in a large biological random sample.\n",
    "If everything is correct, we should find the real motifs more frequently in the latter sample than in the former."
   ]
  },
  {
   "cell_type": "code",
   "execution_count": 1,
   "metadata": {
    "collapsed": true
   },
   "outputs": [],
   "source": [
    "from discrete_motif import DiscreteGrnMotif\n",
    "import discrete_motif_generator as generator\n",
    "import discrete_motif_plotting as visualize\n",
    "\n",
    "from copy import deepcopy\n",
    "import numpy as np\n",
    "import os\n",
    "import pickle\n",
    "import random"
   ]
  },
  {
   "cell_type": "code",
   "execution_count": 2,
   "metadata": {
    "collapsed": true
   },
   "outputs": [],
   "source": [
    "# define a few motifs\n",
    "real_motifs = []"
   ]
  },
  {
   "cell_type": "code",
   "execution_count": 3,
   "metadata": {
    "collapsed": false
   },
   "outputs": [],
   "source": [
    "# load data back, start from this step to use previous run\n",
    "directory = \"../../data\"\n",
    "    \n",
    "samples = []\n",
    "for root, dirnames, filenames in os.walk(directory):\n",
    "    for filename in filenames:\n",
    "        if filename.endswith('.pkl'):\n",
    "            with open(os.path.join(root, filename), 'rb') as input:\n",
    "                samples.append(pickle.load(input))\n",
    "                "
   ]
  },
  {
   "cell_type": "code",
   "execution_count": 4,
   "metadata": {
    "collapsed": false
   },
   "outputs": [
    {
     "name": "stdout",
     "output_type": "stream",
     "text": [
      "Using 4 nodes, 3-valued logic, and 0.5-epsilon 4-target nudge\n",
      "Shuffled to [3, 2, 1, 0]\n",
      "Found 0 matches in the bio sample, for a total of 0 out of 2 real motifs.\n",
      "Found 2 matches in the random sample, for a total of 2 out of 2 real motifs.\n",
      "Using 4 nodes, 3-valued logic, and 0.5-epsilon 4-target nudge\n",
      "Shuffled to [0, 3, 2, 1]\n",
      "Found 0 matches in the bio sample, for a total of 0 out of 2 real motifs.\n",
      "Found 2 matches in the random sample, for a total of 2 out of 2 real motifs.\n",
      "Using 4 nodes, 2-valued logic, and 0.5-epsilon 4-target nudge\n",
      "Shuffled to [2, 3, 0, 1]\n",
      "Found 0 matches in the bio sample, for a total of 0 out of 2 real motifs.\n",
      "Found 2 matches in the random sample, for a total of 2 out of 2 real motifs.\n",
      "Using 4 nodes, 2-valued logic, and 0.5-epsilon 4-target nudge\n",
      "Shuffled to [0, 3, 2, 1]\n",
      "Found 0 matches in the bio sample, for a total of 0 out of 2 real motifs.\n",
      "Found 2 matches in the random sample, for a total of 2 out of 2 real motifs.\n"
     ]
    }
   ],
   "source": [
    "for i in range(0, len(samples)):\n",
    "    args = (samples[i][\"network_size\"], samples[i][\"logic_size\"], samples[i][\"nudge_size\"], samples[i][\"random_tables\"][0][2][-1][0])\n",
    "    print(\"Using %s nodes, %s-valued logic, and %s-epsilon %s-target nudge\" % args)\n",
    "    sample_random = []\n",
    "    sample_bio = []\n",
    "    \n",
    "    for sample in samples[i][\"random_tables\"]:\n",
    "        sample_random.append(sample[0])\n",
    "    for sample in samples[i][\"bio_tables\"]:\n",
    "        sample_bio.append(sample[0])\n",
    "\n",
    "    bio_total = 0\n",
    "    random_total = 0\n",
    "    bio_matched_motifs = []\n",
    "    random_matched_motifs = []\n",
    "    \n",
    "    # to test, it seems to work :)\n",
    "    # can we find the real thing?\n",
    "    real_motifs = [sample_random[0]]\n",
    "    # can we find a shuffled version?\n",
    "    permuted_motif = deepcopy(real_motifs[0])\n",
    "    mapping = list(range(0, permuted_motif.grn_vars[\"gene_cnt\"]))\n",
    "    random.shuffle(mapping)\n",
    "    print(\"Shuffled to %s\" % (mapping))\n",
    "    permuted_table = permuted_motif.permute_transition_table(mapping)\n",
    "    permuted_motif.transition_table = permuted_table\n",
    "    real_motifs.append(permuted_motif)\n",
    "    \n",
    "    for real_motif in real_motifs:\n",
    "        random_matches = real_motif.find_in_sample(sample_random, strict=False)\n",
    "        bio_matches = real_motif.find_in_sample(sample_bio, strict=False)\n",
    "\n",
    "        if len(random_matches) > 0:\n",
    "            random_total += len(random_matches)\n",
    "            random_matched_motifs.append(real_motif)\n",
    "        if len(bio_matches) > 0:\n",
    "            bio_total += len(bio_matches)\n",
    "            bio_matched_motifs.append(real_motif)\n",
    "\n",
    "    args = (bio_total, len(bio_matched_motifs), len(real_motifs))\n",
    "    print(\"Found %d matches in the bio sample, for a total of %d out of %d real motifs.\" % args)\n",
    "    args = (random_total, len(random_matched_motifs), len(real_motifs))\n",
    "    print(\"Found %d matches in the random sample, for a total of %d out of %d real motifs.\" % args)"
   ]
  },
  {
   "cell_type": "markdown",
   "metadata": {},
   "source": [
    "# Finding cycles in our samples"
   ]
  },
  {
   "cell_type": "code",
   "execution_count": 5,
   "metadata": {
    "collapsed": false
   },
   "outputs": [
    {
     "name": "stdout",
     "output_type": "stream",
     "text": [
      "Using 4 nodes, 3-valued logic, and 0.5-epsilon 4-target nudge\n"
     ]
    },
    {
     "data": {
      "image/png": "[encoded data removed]",
      "text/plain": [
       "<matplotlib.figure.Figure at 0x7fe40812e910>"
      ]
     },
     "metadata": {},
     "output_type": "display_data"
    },
    {
     "name": "stdout",
     "output_type": "stream",
     "text": [
      "Using 4 nodes, 3-valued logic, and 0.5-epsilon 4-target nudge\n"
     ]
    },
    {
     "data": {
      "image/png": "[encoded data removed]",
      "text/plain": [
       "<matplotlib.figure.Figure at 0x7fe3fce99f90>"
      ]
     },
     "metadata": {},
     "output_type": "display_data"
    },
    {
     "name": "stdout",
     "output_type": "stream",
     "text": [
      "Using 4 nodes, 2-valued logic, and 0.5-epsilon 4-target nudge\n"
     ]
    },
    {
     "data": {
      "image/png": "[encoded data removed]",
      "text/plain": [
       "<matplotlib.figure.Figure at 0x7fe3fce7bc90>"
      ]
     },
     "metadata": {},
     "output_type": "display_data"
    },
    {
     "name": "stdout",
     "output_type": "stream",
     "text": [
      "Using 4 nodes, 2-valued logic, and 0.5-epsilon 4-target nudge\n"
     ]
    },
    {
     "data": {
      "image/png": "[encoded data removed]",
      "text/plain": [
       "<matplotlib.figure.Figure at 0x7fe3fca78f50>"
      ]
     },
     "metadata": {},
     "output_type": "display_data"
    }
   ],
   "source": [
    "for i in range(0, len(samples)):\n",
    "    args = (samples[i][\"network_size\"], samples[i][\"logic_size\"], samples[i][\"nudge_size\"], sample[2][-1][0])\n",
    "    print(\"Using %s nodes, %s-valued logic, and %s-epsilon %s-target nudge\" % args)\n",
    "    random_cycles = []\n",
    "    bio_cycles = []\n",
    "    for sample in samples[i][\"random_tables\"]:\n",
    "        lengths = [len(x) for x in sample[0].is_cyclical()]\n",
    "        if len(lengths) == 0:\n",
    "            lengths = [0]\n",
    "        avg_length = int(np.mean(lengths))\n",
    "        random_cycles.append(avg_length)\n",
    "    for sample in samples[i][\"bio_tables\"]:\n",
    "        lengths = [len(x) for x in sample[0].is_cyclical()]\n",
    "        if len(lengths) == 0:\n",
    "            lengths = [0]\n",
    "        avg_length = int(np.mean(lengths))\n",
    "        bio_cycles.append(avg_length)\n",
    "    \n",
    "    colors = [\"r\", \"b\"]\n",
    "    labels = [\"random\", \"biological random\"]\n",
    "    title = \"Distribution of cycle lengths (0 if no cycle is present)\"\n",
    "    axes_labels = [\"Average length of cycle in motif\", \"Number of occurences\"]\n",
    "    visualize.plot_bar([random_cycles, bio_cycles], colors, labels, title, axes_labels=axes_labels)"
   ]
  },
  {
   "cell_type": "markdown",
   "metadata": {
    "collapsed": true
   },
   "source": [
    "# Examine a few motifs (draw)"
   ]
  },
  {
   "cell_type": "code",
   "execution_count": 6,
   "metadata": {
    "collapsed": false
   },
   "outputs": [
    {
     "name": "stdout",
     "output_type": "stream",
     "text": [
      "\n",
      "Using 4 nodes, 3-valued logic\n",
      "\n",
      "Examining sample 0\n",
      "[{'inputs': [0], 'rulefunction': <function plus at 0x7fe3ff200410>, 'outputs': [1]}]\n",
      "\n",
      "Examining sample 1\n",
      "[{'inputs': [1], 'rulefunction': <function minus at 0x7fe3ff200488>, 'outputs': [0]}]\n",
      "\n",
      "Examining sample 2\n",
      "[{'inputs': [0], 'rulefunction': <function plus at 0x7fe3ff200410>, 'outputs': [1]}]\n",
      "\n",
      "Examining sample 3\n",
      "[{'inputs': [1], 'rulefunction': <function minus at 0x7fe3ff200488>, 'outputs': [0]}]\n",
      "\n",
      "Examining sample 4\n",
      "[{'inputs': [1], 'rulefunction': <function minus at 0x7fe3ff200488>, 'outputs': [0]}]\n",
      "\n",
      "Using 4 nodes, 3-valued logic\n",
      "\n",
      "Examining sample 0\n",
      "[{'inputs': [0], 'rulefunction': <function minus at 0x7fe3ff200488>, 'outputs': [1]}]\n",
      "\n",
      "Examining sample 1\n",
      "[{'inputs': [0, 1], 'rulefunction': <function plus_and at 0x7fe3ff200578>, 'outputs': [1]}]\n",
      "\n",
      "Examining sample 2\n",
      "[{'inputs': [1], 'rulefunction': <function plus at 0x7fe3ff200410>, 'outputs': [0]}]\n",
      "\n",
      "Examining sample 3\n",
      "[{'inputs': [1], 'rulefunction': <function minus at 0x7fe3ff200488>, 'outputs': [0]}]\n",
      "\n",
      "Examining sample 4\n",
      "[{'inputs': [0], 'rulefunction': <function minus at 0x7fe3ff200488>, 'outputs': [1]}]\n",
      "\n",
      "Using 4 nodes, 2-valued logic\n",
      "\n",
      "Examining sample 0\n",
      "[{'inputs': [0], 'rulefunction': <function minus at 0x7fe3ff200488>, 'outputs': [1]}]\n",
      "\n",
      "Examining sample 1\n",
      "[{'inputs': [1], 'rulefunction': <function plus at 0x7fe3ff200410>, 'outputs': [0]}]\n",
      "\n",
      "Examining sample 2\n",
      "[{'inputs': [0, 1], 'rulefunction': <function plus_and at 0x7fe3ff200578>, 'outputs': [1]}]\n",
      "\n",
      "Examining sample 3\n",
      "[{'inputs': [1], 'rulefunction': <function minus at 0x7fe3ff200488>, 'outputs': [1]}]\n",
      "\n",
      "Examining sample 4\n",
      "[]\n",
      "\n",
      "Using 4 nodes, 2-valued logic\n",
      "\n",
      "Examining sample 0\n",
      "[{'inputs': [1], 'rulefunction': <function plus at 0x7fe3ff200410>, 'outputs': [0]}]\n",
      "\n",
      "Examining sample 1\n",
      "[{'inputs': [1], 'rulefunction': <function plus at 0x7fe3ff200410>, 'outputs': [1]}]\n",
      "\n",
      "Examining sample 2\n",
      "[{'inputs': [1], 'rulefunction': <function minus at 0x7fe3ff200488>, 'outputs': [1]}]\n",
      "\n",
      "Examining sample 3\n",
      "[{'inputs': [0], 'rulefunction': <function plus at 0x7fe3ff200410>, 'outputs': [1]}]\n",
      "\n",
      "Examining sample 4\n",
      "[{'inputs': [0], 'rulefunction': <function plus at 0x7fe3ff200410>, 'outputs': [1]}]\n"
     ]
    }
   ],
   "source": [
    "for i in range(0, len(samples)):\n",
    "    args = (samples[i][\"network_size\"], samples[i][\"logic_size\"])\n",
    "    print(\"\\nUsing %s nodes, %s-valued logic\" % args)\n",
    "    counter = 0\n",
    "    for sample in samples[i][\"bio_tables\"]:\n",
    "        print(\"\\nExamining sample %d\" % counter)\n",
    "        print(sample[0].grn_vars[\"rules\"])\n",
    "        counter += 1\n",
    "        if counter ==  10:\n",
    "            break"
   ]
  },
  {
   "cell_type": "markdown",
   "metadata": {},
   "source": [
    "# Examine a few initial matrices"
   ]
  },
  {
   "cell_type": "code",
   "execution_count": 7,
   "metadata": {
    "collapsed": false
   },
   "outputs": [
    {
     "name": "stdout",
     "output_type": "stream",
     "text": [
      "\n",
      "Using 4 nodes, 3-valued logic\n",
      "\n",
      "Examining sample 0\n",
      "[[0.11731945247424536, -0.1701944943035183, -0.10131436196494226, 0.20565412749319867], [-0.1701944943035183, -0.09060118240700565, 0.08396127232213413, 0.4466232936754182], [-0.10131436196494226, 0.08396127232213413, 1.0, -0.11897498339963411], [0.20565412749319867, 0.4466232936754182, -0.11897498339963411, 0.4392149076090499]]\n",
      "\n",
      "Examining sample 1\n",
      "[[1.0, -0.027442686546060524, 0.44367042358795383, -0.3293535369299342], [-0.027442686546060524, -0.16805288073052704, -0.47759958300027927, 0.0011259785264516875], [0.44367042358795383, -0.47759958300027927, 0.24044387000099698, -0.6307272226769798], [-0.3293535369299342, 0.0011259785264516875, -0.6307272226769798, 0.19347139708000927]]\n",
      "\n",
      "Examining sample 2\n",
      "[[0.24034446764288936, -0.31956468104703517, 0.131299853598837, -0.14749803868605332], [-0.31956468104703517, -0.3189901901343084, 0.2729422000811492, -0.1446680590218815], [0.131299853598837, 0.2729422000811492, -0.19850752924239168, -0.2445278968364366], [-0.14749803868605332, -0.1446680590218815, -0.2445278968364366, 1.0]]\n",
      "\n",
      "Examining sample 0\n",
      "[[0.11731945247424536, -0.1701944943035183, -0.10131436196494226, 0.20565412749319867], [-0.1701944943035183, -0.09060118240700565, 0.08396127232213413, 0.4466232936754182], [-0.10131436196494226, 0.08396127232213413, 1.0, -0.11897498339963411], [0.20565412749319867, 0.4466232936754182, -0.11897498339963411, 0.4392149076090499]]\n",
      "\n",
      "Examining sample 1\n",
      "[[1.0, -0.027442686546060524, 0.44367042358795383, -0.3293535369299342], [-0.027442686546060524, -0.16805288073052704, -0.47759958300027927, 0.0011259785264516875], [0.44367042358795383, -0.47759958300027927, 0.24044387000099698, -0.6307272226769798], [-0.3293535369299342, 0.0011259785264516875, -0.6307272226769798, 0.19347139708000927]]\n",
      "\n",
      "Examining sample 2\n",
      "[[0.24034446764288936, -0.31956468104703517, 0.131299853598837, -0.14749803868605332], [-0.31956468104703517, -0.3189901901343084, 0.2729422000811492, -0.1446680590218815], [0.131299853598837, 0.2729422000811492, -0.19850752924239168, -0.2445278968364366], [-0.14749803868605332, -0.1446680590218815, -0.2445278968364366, 1.0]]\n",
      "\n",
      "Using 4 nodes, 3-valued logic\n",
      "\n",
      "Examining sample 0\n",
      "[[-0.375182997721505, 0.30801165228106275, 0.14787095581653653, 0.2209021735535397], [0.30801165228106275, 0.13331382495602306, 0.2922034238459492, -0.4662009426128543], [0.14787095581653653, 0.2922034238459492, 0.18149593294467697, 0.15463786717405306], [0.2209021735535397, -0.4662009426128543, 0.15463786717405306, 1.0]]\n",
      "\n",
      "Examining sample 1\n",
      "[[-0.12081703024135267, 0.10324261678843304, -0.014328043673456414, 0.3288326025654311], [0.10324261678843304, 1.0, -0.10818980488436714, -0.062489687422613294], [-0.014328043673456414, -0.10818980488436714, 0.2046356931225235, 0.11908554379145886], [0.3288326025654311, -0.062489687422613294, 0.11908554379145886, -0.3079032246062453]]\n",
      "\n",
      "Examining sample 2\n",
      "[[0.05862928115003274, -0.08541691154232278, -0.32730437213449803, -0.05529282542575009], [-0.08541691154232278, 1.0, 0.23397048952064958, -0.17979796701176598], [-0.32730437213449803, 0.23397048952064958, 0.1545723352720303, 0.27784561307512856], [-0.05529282542575009, -0.17979796701176598, 0.27784561307512856, -0.21897994816639743]]\n",
      "\n",
      "Examining sample 0\n",
      "[[-0.375182997721505, 0.30801165228106275, 0.14787095581653653, 0.2209021735535397], [0.30801165228106275, 0.13331382495602306, 0.2922034238459492, -0.4662009426128543], [0.14787095581653653, 0.2922034238459492, 0.18149593294467697, 0.15463786717405306], [0.2209021735535397, -0.4662009426128543, 0.15463786717405306, 1.0]]\n",
      "\n",
      "Examining sample 1\n",
      "[[-0.12081703024135267, 0.10324261678843304, -0.014328043673456414, 0.3288326025654311], [0.10324261678843304, 1.0, -0.10818980488436714, -0.062489687422613294], [-0.014328043673456414, -0.10818980488436714, 0.2046356931225235, 0.11908554379145886], [0.3288326025654311, -0.062489687422613294, 0.11908554379145886, -0.3079032246062453]]\n",
      "\n",
      "Examining sample 2\n",
      "[[0.05862928115003274, -0.08541691154232278, -0.32730437213449803, -0.05529282542575009], [-0.08541691154232278, 1.0, 0.23397048952064958, -0.17979796701176598], [-0.32730437213449803, 0.23397048952064958, 0.1545723352720303, 0.27784561307512856], [-0.05529282542575009, -0.17979796701176598, 0.27784561307512856, -0.21897994816639743]]\n",
      "\n",
      "Using 4 nodes, 2-valued logic\n",
      "\n",
      "Examining sample 0\n",
      "[[-0.39252612237980955, 0.011109171832645481, -0.06346151111615295, -0.03030853626241259], [0.011109171832645481, 1.0, -0.05562106822422597, -0.27220299401185744], [-0.06346151111615295, -0.05562106822422597, -0.004850154472514023, 0.06386203102783194], [-0.03030853626241259, -0.27220299401185744, 0.06386203102783194, 0.031073836358497094]]\n",
      "\n",
      "Examining sample 1\n",
      "[[1.0, 0.15929908178506108, -0.018614403277838143, -0.10337758649782103], [0.15929908178506108, 0.20099085836850938, -0.45187013842776913, -0.2976697093054623], [-0.018614403277838143, -0.45187013842776913, 0.08193341972255053, -0.5030459309382648], [-0.10337758649782103, -0.2976697093054623, -0.5030459309382648, 0.2759508778745128]]\n",
      "\n",
      "Examining sample 2\n",
      "[[-0.25389046802289184, 0.2080016200204684, -0.057290092721212216, -0.12326771357314592], [0.2080016200204684, 1.0, 0.3125053867089792, 0.010173249099311832], [-0.057290092721212216, 0.3125053867089792, -0.19671426268430353, 0.2645159171289504], [-0.12326771357314592, 0.010173249099311832, 0.2645159171289504, 0.09857316118924841]]\n",
      "\n",
      "Examining sample 0\n",
      "[[-0.39252612237980955, 0.011109171832645481, -0.06346151111615295, -0.03030853626241259], [0.011109171832645481, 1.0, -0.05562106822422597, -0.27220299401185744], [-0.06346151111615295, -0.05562106822422597, -0.004850154472514023, 0.06386203102783194], [-0.03030853626241259, -0.27220299401185744, 0.06386203102783194, 0.031073836358497094]]\n",
      "\n",
      "Examining sample 1\n",
      "[[1.0, 0.15929908178506108, -0.018614403277838143, -0.10337758649782103], [0.15929908178506108, 0.20099085836850938, -0.45187013842776913, -0.2976697093054623], [-0.018614403277838143, -0.45187013842776913, 0.08193341972255053, -0.5030459309382648], [-0.10337758649782103, -0.2976697093054623, -0.5030459309382648, 0.2759508778745128]]\n",
      "\n",
      "Examining sample 2\n",
      "[[-0.25389046802289184, 0.2080016200204684, -0.057290092721212216, -0.12326771357314592], [0.2080016200204684, 1.0, 0.3125053867089792, 0.010173249099311832], [-0.057290092721212216, 0.3125053867089792, -0.19671426268430353, 0.2645159171289504], [-0.12326771357314592, 0.010173249099311832, 0.2645159171289504, 0.09857316118924841]]\n",
      "\n",
      "Using 4 nodes, 2-valued logic\n",
      "\n",
      "Examining sample 0\n",
      "[[1.0, 0.055017525813184864, -0.24237660700891708, 0.08789781236645489], [0.055017525813184864, -0.04386940544467244, -0.3504001614484137, 0.012385975309957553], [-0.24237660700891708, -0.3504001614484137, 0.09823975705800847, -0.27553799730130457], [0.08789781236645489, 0.012385975309957553, -0.27553799730130457, 0.4073603507328478]]\n",
      "\n",
      "Examining sample 1\n",
      "[[0.1361671432194227, -0.3979818904486898, 0.19290535486523241, 0.26358020835428597], [-0.3979818904486898, 1.0, 0.06290141684651918, -0.4366420840430908], [0.19290535486523241, 0.06290141684651918, 0.04849545861983895, -0.08536937791226762], [0.26358020835428597, -0.4366420840430908, -0.08536937791226762, -0.25219106554211485]]\n",
      "\n",
      "Examining sample 2\n",
      "[[0.2554604167992238, -0.20302181771173622, 0.14454590565940229, -0.021231998797216156], [-0.20302181771173622, -0.30368308715873066, 0.10490772128260129, -0.3301244648289839], [0.14454590565940229, 0.10490772128260129, 0.0736276103863378, 0.24557007614475457], [-0.021231998797216156, -0.3301244648289839, 0.24557007614475457, 1.0]]\n",
      "\n",
      "Examining sample 0\n",
      "[[1.0, 0.055017525813184864, -0.24237660700891708, 0.08789781236645489], [0.055017525813184864, -0.04386940544467244, -0.3504001614484137, 0.012385975309957553], [-0.24237660700891708, -0.3504001614484137, 0.09823975705800847, -0.27553799730130457], [0.08789781236645489, 0.012385975309957553, -0.27553799730130457, 0.4073603507328478]]\n",
      "\n",
      "Examining sample 1\n",
      "[[0.1361671432194227, -0.3979818904486898, 0.19290535486523241, 0.26358020835428597], [-0.3979818904486898, 1.0, 0.06290141684651918, -0.4366420840430908], [0.19290535486523241, 0.06290141684651918, 0.04849545861983895, -0.08536937791226762], [0.26358020835428597, -0.4366420840430908, -0.08536937791226762, -0.25219106554211485]]\n",
      "\n",
      "Examining sample 2\n",
      "[[0.2554604167992238, -0.20302181771173622, 0.14454590565940229, -0.021231998797216156], [-0.20302181771173622, -0.30368308715873066, 0.10490772128260129, -0.3301244648289839], [0.14454590565940229, 0.10490772128260129, 0.0736276103863378, 0.24557007614475457], [-0.021231998797216156, -0.3301244648289839, 0.24557007614475457, 1.0]]\n"
     ]
    }
   ],
   "source": [
    "for i in range(0, len(samples)):\n",
    "    args = (samples[i][\"network_size\"], samples[i][\"logic_size\"])\n",
    "    print(\"\\nUsing %s nodes, %s-valued logic\" % args)\n",
    "    counter = 0\n",
    "    for sample in samples[i][\"bio_tables\"]:\n",
    "        print(\"\\nExamining sample %d\" % counter)\n",
    "        print(sample[0].grn_vars[\"correlations\"])\n",
    "        counter += 1\n",
    "        if counter == 3:\n",
    "            break\n",
    "    counter = 0\n",
    "    for sample in samples[i][\"bio_tables\"]:\n",
    "        print(\"\\nExamining sample %d\" % counter)\n",
    "        print(sample[0].grn_vars[\"correlations\"])\n",
    "        counter += 1\n",
    "        if counter == 3:\n",
    "            break"
   ]
  },
  {
   "cell_type": "markdown",
   "metadata": {
    "collapsed": true
   },
   "source": [
    "# Known cases (transition tables)\n",
    "\n",
    "Valideer measures op wat random motieven: synergy/and/copy."
   ]
  },
  {
   "cell_type": "code",
   "execution_count": 15,
   "metadata": {
    "collapsed": false
   },
   "outputs": [
    {
     "name": "stdout",
     "output_type": "stream",
     "text": [
      "The states: \n",
      "[[ 0.27737754  0.26803138]\n",
      " [ 0.10598928  0.3486018 ]]\n",
      "[[ 0.0  0.0]\n",
      " [ 0.62597934  0.37402066]]\n",
      "The correlations: \n",
      "[[0.2760169097292502, 0.051276775139931896], [0.051276775139931896, 1.0]]\n",
      "Transitions: \n",
      "[[1, 1, 1, 0], [1, 0, 1, 1], [0, 1, 1, 1], [0, 0, 1, 0]]\n",
      "The entropy: \n",
      "1.89549286348\n",
      "The mutual information: \n",
      "0.953709312501\n",
      "The WMS information: \n",
      "0.892149815104\n",
      "The middle ground synergy approximation: \n",
      "1.36769201167\n",
      "The memory: \n",
      "[1.8954928634803636, 0.95370931250128223808]\n",
      "The nudge impact: \n",
      "0.383960535336\n"
     ]
    }
   ],
   "source": [
    "import discrete_motif_measures as measures\n",
    "import discrete_motif_operations as operations\n",
    "\n",
    "# XOR\n",
    "motif = generator.generate_random(samplesize=1, no_nodes=2, numvalues=2)[0]\n",
    "motif.transition_table = [[1, 1, 1, 0],[1, 0, 1, 1], [0, 1, 1, 1], [0, 0, 1, 0]]\n",
    "motif.evaluate_motif()\n",
    "print(\"The states: \")\n",
    "for state in motif.states:\n",
    "    print(state)\n",
    "print(\"The correlations: \")\n",
    "print(motif.grn_vars[\"correlations\"])\n",
    "print(\"Transitions: \")\n",
    "print(motif.transition_table)\n",
    "\n",
    "print(\"The entropy: \")\n",
    "print(motif.entropy())\n",
    "print(\"The mutual information: \")\n",
    "print(measures.mutual_information(motif))\n",
    "print(\"The WMS information: \")\n",
    "print(measures.synergy_wms(motif))\n",
    "print(\"The middle ground synergy approximation: \")\n",
    "print(measures.synergy_middleground(motif))\n",
    "print(\"The memory: \")\n",
    "motif.reset_to_state(0)\n",
    "print(measures.mi_decay(motif, 1))\n",
    "motif.reset_to_state(0)\n",
    "operations.nudge_variable(motif, [0], 0.5, 'DJ')\n",
    "motif.evaluate_motif()\n",
    "print(\"The nudge impact: \")\n",
    "print(measures.hellinger(motif.states[1], motif.states[-1]))"
   ]
  },
  {
   "cell_type": "code",
   "execution_count": 17,
   "metadata": {
    "collapsed": false
   },
   "outputs": [
    {
     "name": "stdout",
     "output_type": "stream",
     "text": [
      "The states: \n",
      "[[ 0.25154097  0.31969823]\n",
      " [ 0.04658345  0.38217736]]\n",
      "[[ 0.25154097  0.31969823]\n",
      " [ 0.046583447  0.38217736]]\n",
      "The correlations: \n",
      "[[0.3398257725450906, -0.11120374841407887], [-0.11120374841407887, 1.0]]\n",
      "Transitions: \n",
      "[[1, 1, 1, 1], [1, 0, 1, 0], [0, 1, 0, 1], [0, 0, 0, 0]]\n",
      "The entropy: \n",
      "1.76325408486\n",
      "The mutual information: \n",
      "1.76325408486\n",
      "The WMS information: \n",
      "0.338454405436\n",
      "The middle ground synergy approximation: \n",
      "0.558200930397\n",
      "The memory: \n",
      "[1.7632540848567304, 1.7632540848567304414]\n",
      "The nudge impact: \n",
      "0.414341358251\n"
     ]
    }
   ],
   "source": [
    "# COPY\n",
    "motif = generator.generate_random(samplesize=1, no_nodes=2, numvalues=2)[0]\n",
    "motif.transition_table = [[1, 1, 1, 1],[1, 0, 1, 0], [0, 1, 0, 1], [0, 0, 0, 0]]\n",
    "motif.evaluate_motif()\n",
    "print(\"The states: \")\n",
    "for state in motif.states:\n",
    "    print(state)\n",
    "print(\"The correlations: \")\n",
    "print(motif.grn_vars[\"correlations\"])\n",
    "print(\"Transitions: \")\n",
    "print(motif.transition_table)\n",
    "\n",
    "print(\"The entropy: \")\n",
    "print(motif.entropy())\n",
    "print(\"The mutual information: \")\n",
    "print(measures.mutual_information(motif))\n",
    "print(\"The WMS information: \")\n",
    "print(measures.synergy_wms(motif))\n",
    "print(\"The middle ground synergy approximation: \")\n",
    "print(measures.synergy_middleground(motif))\n",
    "print(\"The memory: \")\n",
    "motif.reset_to_state(0)\n",
    "print(measures.mi_decay(motif, 1))\n",
    "motif.reset_to_state(0)\n",
    "operations.nudge_variable(motif, [0], 0.5, 'DJ')\n",
    "motif.evaluate_motif()\n",
    "print(\"The nudge impact: \")\n",
    "print(measures.hellinger(motif.states[1], motif.states[-1]))"
   ]
  },
  {
   "cell_type": "code",
   "execution_count": 18,
   "metadata": {
    "collapsed": false
   },
   "outputs": [
    {
     "name": "stdout",
     "output_type": "stream",
     "text": [
      "The states: \n",
      "[[ 0.02889083  0.36973714]\n",
      " [ 0.56383246  0.03753957]]\n",
      "[[ 0.39862797  0.0]\n",
      " [ 0.56383246  0.037539571]]\n",
      "The correlations: \n",
      "[[0.25676660501415505, -0.06604172709543943], [-0.06604172709543943, 1.0]]\n",
      "Transitions: \n",
      "[[1, 1, 1, 1], [1, 0, 1, 0], [0, 1, 0, 0], [0, 0, 0, 0]]\n",
      "The entropy: \n",
      "1.32232212534\n",
      "The mutual information: \n",
      "1.17279869254\n",
      "The WMS information: \n",
      "-0.21010612177\n",
      "The middle ground synergy approximation: \n",
      "0.0710368274294\n",
      "The memory: \n",
      "[1.3223221253436068, 1.1727986925414013035]\n",
      "The nudge impact: \n",
      "0.271919253894\n"
     ]
    }
   ],
   "source": [
    "# AND\n",
    "motif = generator.generate_random(samplesize=1, no_nodes=2, numvalues=2)[0]\n",
    "motif.transition_table = [[1, 1, 1, 1],[1, 0, 1, 0], [0, 1, 0, 0], [0, 0, 0, 0]]\n",
    "motif.evaluate_motif()\n",
    "print(\"The states: \")\n",
    "for state in motif.states:\n",
    "    print(state)\n",
    "print(\"The correlations: \")\n",
    "print(motif.grn_vars[\"correlations\"])\n",
    "print(\"Transitions: \")\n",
    "print(motif.transition_table)\n",
    "\n",
    "print(\"The entropy: \")\n",
    "print(motif.entropy())\n",
    "print(\"The mutual information: \")\n",
    "print(measures.mutual_information(motif))\n",
    "print(\"The WMS information: \")\n",
    "print(measures.synergy_wms(motif))\n",
    "print(\"The middle ground synergy approximation: \")\n",
    "print(measures.synergy_middleground(motif))\n",
    "print(\"The memory: \")\n",
    "motif.reset_to_state(0)\n",
    "print(measures.mi_decay(motif, 1))\n",
    "motif.reset_to_state(0)\n",
    "operations.nudge_variable(motif, [0], 0.5, 'DJ')\n",
    "motif.evaluate_motif()\n",
    "print(\"The nudge impact: \")\n",
    "print(measures.hellinger(motif.states[1], motif.states[-1]))"
   ]
  },
  {
   "cell_type": "code",
   "execution_count": null,
   "metadata": {
    "collapsed": true
   },
   "outputs": [],
   "source": []
  }
 ],
 "metadata": {
  "kernelspec": {
   "display_name": "Python 2",
   "language": "python",
   "name": "python2"
  },
  "language_info": {
   "codemirror_mode": {
    "name": "ipython",
    "version": 2
   },
   "file_extension": ".py",
   "mimetype": "text/x-python",
   "name": "python",
   "nbconvert_exporter": "python",
   "pygments_lexer": "ipython2",
   "version": "2.7.13"
  }
 },
 "nbformat": 4,
 "nbformat_minor": 1
}
