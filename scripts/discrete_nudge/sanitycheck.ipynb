{
 "cells": [
  {
   "cell_type": "markdown",
   "metadata": {},
   "source": [
    "# Find biological motifs\n",
    "\n",
    "To make sure our sampling strategy makes sense, we manually enter a few biological motifs.\n",
    "We then look for these motifs in a large random sample, as well as in a large biological random sample.\n",
    "If everything is correct, we should find the real motifs more frequently in the latter sample than in the former."
   ]
  },
  {
   "cell_type": "code",
   "execution_count": null,
   "metadata": {
    "collapsed": true
   },
   "outputs": [],
   "source": [
    "from discrete_motif import DiscreteGrnMotif\n",
    "import discrete_motif_generator as generator\n",
    "import discrete_motif_plotting as visualize"
   ]
  },
  {
   "cell_type": "code",
   "execution_count": 1,
   "metadata": {
    "collapsed": true
   },
   "outputs": [],
   "source": [
    "# define a few motifs\n",
    "real_motifs = []"
   ]
  },
  {
   "cell_type": "code",
   "execution_count": 2,
   "metadata": {
    "collapsed": true
   },
   "outputs": [],
   "source": [
    "# draw a random sample\n",
    "sample_random\n",
    "\n",
    "# draw a biological random sample\n",
    "sample_bio"
   ]
  },
  {
   "cell_type": "code",
   "execution_count": null,
   "metadata": {
    "collapsed": true
   },
   "outputs": [],
   "source": [
    "bio_total = 0\n",
    "random_total = 0\n",
    "bio_matched_motifs = []\n",
    "random_matched_motifs = []\n",
    "\n",
    "for real_motif in real_motifs:\n",
    "    random_matches = real_motif.find_in_sample(sample_random, strict=False)\n",
    "    bio_matches = real_motif.find_in_sample(sample_bio, strict=False)\n",
    "    \n",
    "    if len(random_matches) > 0:\n",
    "        random_total += len(random_matches)\n",
    "        random_matched_motifs.append(real_motif)\n",
    "    if len(bio_matches) > 0:\n",
    "        bio_total += len(bio_matches)\n",
    "        bio_matched_motifs.append(real_motif)\n",
    "        \n",
    "args = (bio_total, len(bio_matched_motifs), len(real_motifs))\n",
    "print(\"Found %d matches in the bio sample, for a total of %d out of %d real motifs.\" % args)\n",
    "args = (random_total, len(random_matched_motifs), len(real_motifs))\n",
    "print(\"Found %d matches in the random sample, for a total of %d out of %d real motifs.\" % args)"
   ]
  }
 ],
 "metadata": {
  "kernelspec": {
   "display_name": "Python 2",
   "language": "python",
   "name": "python2"
  },
  "language_info": {
   "codemirror_mode": {
    "name": "ipython",
    "version": 2
   },
   "file_extension": ".py",
   "mimetype": "text/x-python",
   "name": "python",
   "nbconvert_exporter": "python",
   "pygments_lexer": "ipython2",
   "version": "2.7.13"
  }
 },
 "nbformat": 4,
 "nbformat_minor": 1
}
