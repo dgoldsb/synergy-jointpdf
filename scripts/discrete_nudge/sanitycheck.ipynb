{
 "cells": [
  {
   "cell_type": "markdown",
   "metadata": {},
   "source": [
    "# Find biological motifs\n",
    "\n",
    "To make sure our sampling strategy makes sense, we manually enter a few biological motifs.\n",
    "We then look for these motifs in a large random sample, as well as in a large biological random sample.\n",
    "If everything is correct, we should find the real motifs more frequently in the latter sample than in the former."
   ]
  },
  {
   "cell_type": "code",
   "execution_count": 1,
   "metadata": {
    "collapsed": true
   },
   "outputs": [],
   "source": [
    "from discrete_motif import DiscreteGrnMotif\n",
    "import discrete_motif_generator as generator\n",
    "import discrete_motif_plotting as visualize\n",
    "\n",
    "from copy import deepcopy\n",
    "import numpy as np\n",
    "import os\n",
    "import pickle\n",
    "import random"
   ]
  },
  {
   "cell_type": "code",
   "execution_count": 2,
   "metadata": {
    "collapsed": true
   },
   "outputs": [],
   "source": [
    "# define a few motifs\n",
    "real_motifs = []"
   ]
  },
  {
   "cell_type": "code",
   "execution_count": 3,
   "metadata": {
    "collapsed": false
   },
   "outputs": [],
   "source": [
    "# load data back, start from this step to use previous run\n",
    "directory = \"../../data\"\n",
    "    \n",
    "samples = []\n",
    "for root, dirnames, filenames in os.walk(directory):\n",
    "    for filename in filenames:\n",
    "        if filename.endswith('.pkl'):\n",
    "            with open(os.path.join(root, filename), 'rb') as input:\n",
    "                samples.append(pickle.load(input))\n",
    "                "
   ]
  },
  {
   "cell_type": "code",
   "execution_count": 4,
   "metadata": {
    "collapsed": false
   },
   "outputs": [
    {
     "name": "stdout",
     "output_type": "stream",
     "text": [
      "Using 4 nodes, 3-valued logic, and 0.5-epsilon 4-target nudge\n",
      "Shuffled to [0, 1, 2, 3]\n",
      "Found 0 matches in the bio sample, for a total of 0 out of 2 real motifs.\n",
      "Found 2 matches in the random sample, for a total of 2 out of 2 real motifs.\n",
      "Using 4 nodes, 2-valued logic, and 0.5-epsilon 4-target nudge\n",
      "Shuffled to [3, 1, 0, 2]\n",
      "Found 0 matches in the bio sample, for a total of 0 out of 2 real motifs.\n",
      "Found 2 matches in the random sample, for a total of 2 out of 2 real motifs.\n"
     ]
    }
   ],
   "source": [
    "for i in range(0, len(samples)):\n",
    "    args = (samples[i][\"network_size\"], samples[i][\"logic_size\"], samples[i][\"nudge_size\"], samples[i][\"random_tables\"][0][2][-1][0])\n",
    "    print(\"Using %s nodes, %s-valued logic, and %s-epsilon %s-target nudge\" % args)\n",
    "    sample_random = []\n",
    "    sample_bio = []\n",
    "    \n",
    "    for sample in samples[i][\"random_tables\"]:\n",
    "        sample_random.append(sample[0])\n",
    "    for sample in samples[i][\"bio_tables\"]:\n",
    "        sample_bio.append(sample[0])\n",
    "\n",
    "    bio_total = 0\n",
    "    random_total = 0\n",
    "    bio_matched_motifs = []\n",
    "    random_matched_motifs = []\n",
    "    \n",
    "    # to test, it seems to work :)\n",
    "    # can we find the real thing?\n",
    "    real_motifs = [sample_random[0]]\n",
    "    # can we find a shuffled version?\n",
    "    permuted_motif = deepcopy(real_motifs[0])\n",
    "    mapping = list(range(0, permuted_motif.grn_vars[\"gene_cnt\"]))\n",
    "    random.shuffle(mapping)\n",
    "    print(\"Shuffled to %s\" % (mapping))\n",
    "    permuted_table = permuted_motif.permute_transition_table(mapping)\n",
    "    permuted_motif.transition_table = permuted_table\n",
    "    real_motifs.append(permuted_motif)\n",
    "    \n",
    "    for real_motif in real_motifs:\n",
    "        random_matches = real_motif.find_in_sample(sample_random, strict=False)\n",
    "        bio_matches = real_motif.find_in_sample(sample_bio, strict=False)\n",
    "\n",
    "        if len(random_matches) > 0:\n",
    "            random_total += len(random_matches)\n",
    "            random_matched_motifs.append(real_motif)\n",
    "        if len(bio_matches) > 0:\n",
    "            bio_total += len(bio_matches)\n",
    "            bio_matched_motifs.append(real_motif)\n",
    "\n",
    "    args = (bio_total, len(bio_matched_motifs), len(real_motifs))\n",
    "    print(\"Found %d matches in the bio sample, for a total of %d out of %d real motifs.\" % args)\n",
    "    args = (random_total, len(random_matched_motifs), len(real_motifs))\n",
    "    print(\"Found %d matches in the random sample, for a total of %d out of %d real motifs.\" % args)"
   ]
  },
  {
   "cell_type": "markdown",
   "metadata": {},
   "source": [
    "# Finding cycles in our samples"
   ]
  },
  {
   "cell_type": "code",
   "execution_count": 5,
   "metadata": {
    "collapsed": false
   },
   "outputs": [
    {
     "name": "stdout",
     "output_type": "stream",
     "text": [
      "Using 4 nodes, 3-valued logic, and 0.5-epsilon 4-target nudge\n"
     ]
    },
    {
     "data": {
      "image/png": "[encoded data removed]",
      "text/plain": [
       "<matplotlib.figure.Figure at 0x7f7bb5975d90>"
      ]
     },
     "metadata": {},
     "output_type": "display_data"
    },
    {
     "name": "stdout",
     "output_type": "stream",
     "text": [
      "Using 4 nodes, 2-valued logic, and 0.5-epsilon 4-target nudge\n"
     ]
    },
    {
     "data": {
      "image/png": "[encoded data removed]",
      "text/plain": [
       "<matplotlib.figure.Figure at 0x7f7b7c3bf750>"
      ]
     },
     "metadata": {},
     "output_type": "display_data"
    }
   ],
   "source": [
    "for i in range(0, len(samples)):\n",
    "    args = (samples[i][\"network_size\"], samples[i][\"logic_size\"], samples[i][\"nudge_size\"], sample[2][-1][0])\n",
    "    print(\"Using %s nodes, %s-valued logic, and %s-epsilon %s-target nudge\" % args)\n",
    "    random_cycles = []\n",
    "    bio_cycles = []\n",
    "    for sample in samples[i][\"random_tables\"]:\n",
    "        lengths = [len(x) for x in sample[0].is_cyclical()]\n",
    "        if len(lengths) == 0:\n",
    "            lengths = [0]\n",
    "        avg_length = int(np.mean(lengths))\n",
    "        random_cycles.append(avg_length)\n",
    "    for sample in samples[i][\"bio_tables\"]:\n",
    "        lengths = [len(x) for x in sample[0].is_cyclical()]\n",
    "        if len(lengths) == 0:\n",
    "            lengths = [0]\n",
    "        avg_length = int(np.mean(lengths))\n",
    "        bio_cycles.append(avg_length)\n",
    "    \n",
    "    colors = [\"r\", \"b\"]\n",
    "    labels = [\"random\", \"biological random\"]\n",
    "    title = \"Distribution of cycle lengths (0 if no cycle is present)\"\n",
    "    axes_labels = [\"Average length of cycle in motif\", \"Number of occurences\"]\n",
    "    visualize.plot_bar([random_cycles, bio_cycles], colors, labels, title, axes_labels=axes_labels)"
   ]
  },
  {
   "cell_type": "markdown",
   "metadata": {
    "collapsed": true
   },
   "source": [
    "# Examine a few motifs (draw)"
   ]
  },
  {
   "cell_type": "code",
   "execution_count": 6,
   "metadata": {
    "collapsed": false
   },
   "outputs": [
    {
     "name": "stdout",
     "output_type": "stream",
     "text": [
      "\n",
      "Using 4 nodes, 3-valued logic\n",
      "\n",
      "Examining sample 0\n",
      "[{'inputs': [0], 'rulefunction': <function plus at 0x7f7b7c442398>, 'outputs': [1]}, {'inputs': [0], 'rulefunction': <function minus at 0x7f7b7c442410>, 'outputs': [3]}, {'inputs': [1], 'rulefunction': <function plus at 0x7f7b7c442398>, 'outputs': [0]}, {'inputs': [2], 'rulefunction': <function minus at 0x7f7b7c442410>, 'outputs': [0]}, {'inputs': [2], 'rulefunction': <function minus at 0x7f7b7c442410>, 'outputs': [1]}, {'inputs': [3], 'rulefunction': <function plus at 0x7f7b7c442398>, 'outputs': [1]}, {'inputs': [3], 'rulefunction': <function minus at 0x7f7b7c442410>, 'outputs': [3]}, {'inputs': [1, 2], 'rulefunction': <function min_and at 0x7f7b7c442578>, 'outputs': [2]}]\n",
      "\n",
      "Examining sample 1\n",
      "[{'inputs': [0], 'rulefunction': <function minus at 0x7f7b7c442410>, 'outputs': [0]}, {'inputs': [0], 'rulefunction': <function minus at 0x7f7b7c442410>, 'outputs': [2]}, {'inputs': [1], 'rulefunction': <function minus at 0x7f7b7c442410>, 'outputs': [0]}, {'inputs': [1], 'rulefunction': <function minus at 0x7f7b7c442410>, 'outputs': [2]}, {'inputs': [1], 'rulefunction': <function minus at 0x7f7b7c442410>, 'outputs': [3]}, {'inputs': [2], 'rulefunction': <function plus at 0x7f7b7c442398>, 'outputs': [3]}, {'inputs': [3], 'rulefunction': <function minus at 0x7f7b7c442410>, 'outputs': [2]}, {'inputs': [3], 'rulefunction': <function minus at 0x7f7b7c442410>, 'outputs': [3]}, {'inputs': [0, 1], 'rulefunction': <function plus_and at 0x7f7b7c442500>, 'outputs': [1]}, {'inputs': [0, 1], 'rulefunction': <function plus_and at 0x7f7b7c442500>, 'outputs': [3]}, {'inputs': [1, 2], 'rulefunction': <function min_and at 0x7f7b7c442578>, 'outputs': [1]}, {'inputs': [1, 3], 'rulefunction': <function min_and at 0x7f7b7c442578>, 'outputs': [1]}, {'inputs': [1, 3], 'rulefunction': <function plus_and at 0x7f7b7c442500>, 'outputs': [3]}]\n",
      "\n",
      "Examining sample 2\n",
      "[{'inputs': [0], 'rulefunction': <function minus at 0x7f7b7c442410>, 'outputs': [0]}, {'inputs': [0], 'rulefunction': <function minus at 0x7f7b7c442410>, 'outputs': [2]}, {'inputs': [0], 'rulefunction': <function plus at 0x7f7b7c442398>, 'outputs': [3]}, {'inputs': [1], 'rulefunction': <function plus at 0x7f7b7c442398>, 'outputs': [0]}, {'inputs': [1], 'rulefunction': <function minus at 0x7f7b7c442410>, 'outputs': [1]}, {'inputs': [1], 'rulefunction': <function plus at 0x7f7b7c442398>, 'outputs': [2]}, {'inputs': [1], 'rulefunction': <function plus at 0x7f7b7c442398>, 'outputs': [3]}, {'inputs': [2], 'rulefunction': <function plus at 0x7f7b7c442398>, 'outputs': [0]}, {'inputs': [2], 'rulefunction': <function minus at 0x7f7b7c442410>, 'outputs': [1]}, {'inputs': [2], 'rulefunction': <function minus at 0x7f7b7c442410>, 'outputs': [2]}, {'inputs': [2], 'rulefunction': <function minus at 0x7f7b7c442410>, 'outputs': [3]}, {'inputs': [3], 'rulefunction': <function plus at 0x7f7b7c442398>, 'outputs': [0]}, {'inputs': [3], 'rulefunction': <function minus at 0x7f7b7c442410>, 'outputs': [1]}, {'inputs': [3], 'rulefunction': <function plus at 0x7f7b7c442398>, 'outputs': [2]}, {'inputs': [3], 'rulefunction': <function plus at 0x7f7b7c442398>, 'outputs': [3]}, {'inputs': [0, 1], 'rulefunction': <function min_and at 0x7f7b7c442578>, 'outputs': [1]}, {'inputs': [0, 1], 'rulefunction': <function plus_and at 0x7f7b7c442500>, 'outputs': [2]}, {'inputs': [0, 1], 'rulefunction': <function plus_and at 0x7f7b7c442500>, 'outputs': [3]}, {'inputs': [0, 2], 'rulefunction': <function min_and at 0x7f7b7c442578>, 'outputs': [0]}, {'inputs': [2, 3], 'rulefunction': <function plus_and at 0x7f7b7c442500>, 'outputs': [0]}, {'inputs': [2, 3], 'rulefunction': <function plus_and at 0x7f7b7c442500>, 'outputs': [2]}]\n",
      "\n",
      "Using 4 nodes, 2-valued logic\n",
      "\n",
      "Examining sample 0\n",
      "[{'inputs': [0], 'rulefunction': <function minus at 0x7f7b7c442410>, 'outputs': [0]}, {'inputs': [0], 'rulefunction': <function minus at 0x7f7b7c442410>, 'outputs': [1]}, {'inputs': [1], 'rulefunction': <function plus at 0x7f7b7c442398>, 'outputs': [0]}, {'inputs': [1], 'rulefunction': <function plus at 0x7f7b7c442398>, 'outputs': [3]}, {'inputs': [2], 'rulefunction': <function plus at 0x7f7b7c442398>, 'outputs': [0]}, {'inputs': [2], 'rulefunction': <function minus at 0x7f7b7c442410>, 'outputs': [2]}, {'inputs': [3], 'rulefunction': <function minus at 0x7f7b7c442410>, 'outputs': [0]}, {'inputs': [3], 'rulefunction': <function plus at 0x7f7b7c442398>, 'outputs': [1]}, {'inputs': [3], 'rulefunction': <function plus at 0x7f7b7c442398>, 'outputs': [2]}, {'inputs': [3], 'rulefunction': <function plus at 0x7f7b7c442398>, 'outputs': [3]}, {'inputs': [2, 3], 'rulefunction': <function plus_and at 0x7f7b7c442500>, 'outputs': [1]}]\n",
      "\n",
      "Examining sample 1\n",
      "[{'inputs': [0], 'rulefunction': <function minus at 0x7f7b7c442410>, 'outputs': [1]}, {'inputs': [1], 'rulefunction': <function plus at 0x7f7b7c442398>, 'outputs': [2]}, {'inputs': [1], 'rulefunction': <function minus at 0x7f7b7c442410>, 'outputs': [3]}, {'inputs': [2], 'rulefunction': <function minus at 0x7f7b7c442410>, 'outputs': [1]}, {'inputs': [3], 'rulefunction': <function minus at 0x7f7b7c442410>, 'outputs': [0]}, {'inputs': [3], 'rulefunction': <function minus at 0x7f7b7c442410>, 'outputs': [1]}, {'inputs': [3], 'rulefunction': <function minus at 0x7f7b7c442410>, 'outputs': [2]}, {'inputs': [0, 2], 'rulefunction': <function plus_and at 0x7f7b7c442500>, 'outputs': [1]}, {'inputs': [0, 3], 'rulefunction': <function min_and at 0x7f7b7c442578>, 'outputs': [0]}]\n",
      "\n",
      "Examining sample 2\n",
      "[{'inputs': [1], 'rulefunction': <function plus at 0x7f7b7c442398>, 'outputs': [2]}, {'inputs': [2], 'rulefunction': <function plus at 0x7f7b7c442398>, 'outputs': [1]}, {'inputs': [2], 'rulefunction': <function minus at 0x7f7b7c442410>, 'outputs': [3]}, {'inputs': [3], 'rulefunction': <function minus at 0x7f7b7c442410>, 'outputs': [0]}, {'inputs': [3], 'rulefunction': <function plus at 0x7f7b7c442398>, 'outputs': [1]}, {'inputs': [3], 'rulefunction': <function plus at 0x7f7b7c442398>, 'outputs': [3]}, {'inputs': [1, 2], 'rulefunction': <function min_and at 0x7f7b7c442578>, 'outputs': [1]}]\n"
     ]
    }
   ],
   "source": [
    "for i in range(0, len(samples)):\n",
    "    args = (samples[i][\"network_size\"], samples[i][\"logic_size\"])\n",
    "    print(\"\\nUsing %s nodes, %s-valued logic\" % args)\n",
    "    counter = 0\n",
    "    for sample in samples[i][\"bio_tables\"]:\n",
    "        print(\"\\nExamining sample %d\" % counter)\n",
    "        print(sample[0].grn_vars[\"rules\"])\n",
    "        counter += 1\n",
    "        if counter ==  3:\n",
    "            break"
   ]
  },
  {
   "cell_type": "markdown",
   "metadata": {},
   "source": [
    "# Examine a few initial matrices"
   ]
  },
  {
   "cell_type": "code",
   "execution_count": 15,
   "metadata": {
    "collapsed": false
   },
   "outputs": [
    {
     "name": "stdout",
     "output_type": "stream",
     "text": [
      "\n",
      "Using 4 nodes, 3-valued logic\n",
      "\n",
      "Examining sample 0\n",
      "\n",
      "[[1.0, -0.281481457413865, -0.06853880617191987, -0.10668767211651838], [-0.281481457413865, 1.0, 0.21549572204304446, 0.13645104988720358], [-0.06853880617191987, 0.21549572204304446, 1.0, -0.4754614714544123], [-0.10668767211651838, 0.13645104988720358, -0.4754614714544123, 1.0]]\n",
      "\n",
      "\n",
      "[[[[  1.81444972e-02   6.63006291e-03   2.42662400e-02]\n",
      "   [  7.80976553e-03   9.89219898e-03   1.67921077e-02]\n",
      "   [  6.39993548e-03   1.47624383e-02   1.78678653e-03]]\n",
      "\n",
      "  [[  6.21929083e-03   1.04585835e-02   1.47264458e-02]\n",
      "   [  1.99307226e-02   1.50372776e-02   2.37116365e-03]\n",
      "   [  1.75883415e-02   1.63579551e-02   6.64563812e-03]]\n",
      "\n",
      "  [[  2.25815666e-02   7.90402406e-03   1.89847260e-02]\n",
      "   [  5.66013964e-03   2.59390931e-02   7.22139932e-03]\n",
      "   [  2.23142317e-02   2.53574132e-02   2.06258242e-02]]]\n",
      "\n",
      "\n",
      " [[[  2.26998706e-02   2.55712892e-02   1.31565613e-02]\n",
      "   [  4.74152824e-03   1.06961502e-02   1.22538767e-02]\n",
      "   [  3.67697190e-03   1.27997520e-02   9.10229849e-03]]\n",
      "\n",
      "  [[  5.08791846e-03   2.11280769e-02   9.96015707e-03]\n",
      "   [  3.18732221e-03   2.20753219e-03   1.10326584e-02]\n",
      "   [  9.55052257e-03   1.50003967e-02   7.44276110e-03]]\n",
      "\n",
      "  [[  2.66598849e-02   9.73112476e-03   2.67976427e-02]\n",
      "   [  1.45531483e-02   6.35662587e-03   1.88105439e-02]\n",
      "   [  2.86476345e-03   1.85234518e-02   9.24028501e-03]]]\n",
      "\n",
      "\n",
      " [[[  1.60724703e-02   1.47759140e-02   1.22066951e-02]\n",
      "   [  6.40535858e-03   1.40770144e-02   9.28342459e-03]\n",
      "   [  5.98709743e-03   6.51395283e-03   9.49821650e-03]]\n",
      "\n",
      "  [[  2.27760146e-02   2.61318254e-02   1.37399420e-02]\n",
      "   [  1.90029986e-02   2.91696369e-03   1.55425348e-03]\n",
      "   [  8.44501187e-05   2.55114319e-02   8.11111415e-03]]\n",
      "\n",
      "  [[  2.37653447e-02   2.12654639e-03   9.44113633e-03]\n",
      "   [  4.80097365e-03   8.63024865e-03   1.16836646e-02]\n",
      "   [  7.97847485e-03   9.05418062e-03   2.62930793e-03]]]]\n",
      "\n",
      "Examining sample 0\n",
      "\n",
      "[[1.0, -0.281481457413865, -0.06853880617191987, -0.10668767211651838], [-0.281481457413865, 1.0, 0.21549572204304446, 0.13645104988720358], [-0.06853880617191987, 0.21549572204304446, 1.0, -0.4754614714544123], [-0.10668767211651838, 0.13645104988720358, -0.4754614714544123, 1.0]]\n",
      "\n",
      "\n",
      "[[[[  1.81444972e-02   6.63006291e-03   2.42662400e-02]\n",
      "   [  7.80976553e-03   9.89219898e-03   1.67921077e-02]\n",
      "   [  6.39993548e-03   1.47624383e-02   1.78678653e-03]]\n",
      "\n",
      "  [[  6.21929083e-03   1.04585835e-02   1.47264458e-02]\n",
      "   [  1.99307226e-02   1.50372776e-02   2.37116365e-03]\n",
      "   [  1.75883415e-02   1.63579551e-02   6.64563812e-03]]\n",
      "\n",
      "  [[  2.25815666e-02   7.90402406e-03   1.89847260e-02]\n",
      "   [  5.66013964e-03   2.59390931e-02   7.22139932e-03]\n",
      "   [  2.23142317e-02   2.53574132e-02   2.06258242e-02]]]\n",
      "\n",
      "\n",
      " [[[  2.26998706e-02   2.55712892e-02   1.31565613e-02]\n",
      "   [  4.74152824e-03   1.06961502e-02   1.22538767e-02]\n",
      "   [  3.67697190e-03   1.27997520e-02   9.10229849e-03]]\n",
      "\n",
      "  [[  5.08791846e-03   2.11280769e-02   9.96015707e-03]\n",
      "   [  3.18732221e-03   2.20753219e-03   1.10326584e-02]\n",
      "   [  9.55052257e-03   1.50003967e-02   7.44276110e-03]]\n",
      "\n",
      "  [[  2.66598849e-02   9.73112476e-03   2.67976427e-02]\n",
      "   [  1.45531483e-02   6.35662587e-03   1.88105439e-02]\n",
      "   [  2.86476345e-03   1.85234518e-02   9.24028501e-03]]]\n",
      "\n",
      "\n",
      " [[[  1.60724703e-02   1.47759140e-02   1.22066951e-02]\n",
      "   [  6.40535858e-03   1.40770144e-02   9.28342459e-03]\n",
      "   [  5.98709743e-03   6.51395283e-03   9.49821650e-03]]\n",
      "\n",
      "  [[  2.27760146e-02   2.61318254e-02   1.37399420e-02]\n",
      "   [  1.90029986e-02   2.91696369e-03   1.55425348e-03]\n",
      "   [  8.44501187e-05   2.55114319e-02   8.11111415e-03]]\n",
      "\n",
      "  [[  2.37653447e-02   2.12654639e-03   9.44113633e-03]\n",
      "   [  4.80097365e-03   8.63024865e-03   1.16836646e-02]\n",
      "   [  7.97847485e-03   9.05418062e-03   2.62930793e-03]]]]\n",
      "\n",
      "Using 4 nodes, 2-valued logic\n",
      "\n",
      "Examining sample 0\n",
      "\n",
      "[[1.0, 0.1826397069271315, 0.11795888317199932, 0.008378593423503604], [0.1826397069271315, 1.0, 0.008831800423982905, -0.06616656281303313], [0.11795888317199932, 0.008831800423982905, 1.0, -0.13669886869964498], [0.008378593423503604, -0.06616656281303313, -0.13669886869964498, 1.0]]\n",
      "\n",
      "\n",
      "[[[[ 0.01789253  0.11219358]\n",
      "   [ 0.12650598  0.06980136]]\n",
      "\n",
      "  [[ 0.05713684  0.09624448]\n",
      "   [ 0.11287548  0.01274455]]]\n",
      "\n",
      "\n",
      " [[[ 0.11255891  0.11432769]\n",
      "   [ 0.01291405  0.01758545]]\n",
      "\n",
      "  [[ 0.00198955  0.04613735]\n",
      "   [ 0.01531223  0.07377997]]]]\n",
      "\n",
      "Examining sample 0\n",
      "\n",
      "[[1.0, 0.1826397069271315, 0.11795888317199932, 0.008378593423503604], [0.1826397069271315, 1.0, 0.008831800423982905, -0.06616656281303313], [0.11795888317199932, 0.008831800423982905, 1.0, -0.13669886869964498], [0.008378593423503604, -0.06616656281303313, -0.13669886869964498, 1.0]]\n",
      "\n",
      "\n",
      "[[[[ 0.01789253  0.11219358]\n",
      "   [ 0.12650598  0.06980136]]\n",
      "\n",
      "  [[ 0.05713684  0.09624448]\n",
      "   [ 0.11287548  0.01274455]]]\n",
      "\n",
      "\n",
      " [[[ 0.11255891  0.11432769]\n",
      "   [ 0.01291405  0.01758545]]\n",
      "\n",
      "  [[ 0.00198955  0.04613735]\n",
      "   [ 0.01531223  0.07377997]]]]\n"
     ]
    }
   ],
   "source": [
    "for i in range(0, len(samples)):\n",
    "    args = (samples[i][\"network_size\"], samples[i][\"logic_size\"])\n",
    "    print(\"\\nUsing %s nodes, %s-valued logic\" % args)\n",
    "    counter = 0\n",
    "    for sample in samples[i][\"bio_tables\"]:\n",
    "        print(\"\\nExamining sample %d\\n\" % counter)\n",
    "        print(sample[0].grn_vars[\"correlations\"])\n",
    "        print(\"\\n\")\n",
    "        print(sample[0].states[0])\n",
    "        counter += 1\n",
    "        if counter == 1:\n",
    "            break\n",
    "    counter = 0\n",
    "    for sample in samples[i][\"bio_tables\"]:\n",
    "        print(\"\\nExamining sample %d\\n\" % counter)\n",
    "        print(sample[0].grn_vars[\"correlations\"])\n",
    "        print(\"\\n\")\n",
    "        print(sample[0].states[0])\n",
    "        counter += 1\n",
    "        if counter == 1:\n",
    "            break"
   ]
  },
  {
   "cell_type": "markdown",
   "metadata": {
    "collapsed": true
   },
   "source": [
    "# Known cases (transition tables)\n",
    "\n",
    "Valideer measures op wat random motieven: synergy/and/copy."
   ]
  },
  {
   "cell_type": "code",
   "execution_count": 8,
   "metadata": {
    "collapsed": false
   },
   "outputs": [
    {
     "name": "stdout",
     "output_type": "stream",
     "text": [
      "The states: \n",
      "[[ 0.3044471   0.3816744 ]\n",
      " [ 0.03758199  0.27629651]]\n",
      "[[ 0.58074361  0.0]\n",
      " [ 0.0  0.41925639]]\n",
      "The correlations: \n",
      "[[1.0, -0.19767664236828497], [-0.19767664236828497, 1.0]]\n",
      "Transitions: \n",
      "[[1, 1, 0, 0], [1, 0, 1, 1], [0, 1, 1, 1], [0, 0, 0, 0]]\n",
      "The entropy: \n",
      "1.74335287393\n",
      "The mutual information: \n",
      "0.981105987151\n",
      "The WMS information: \n",
      "0.748929183124\n",
      "The middle ground synergy approximation: \n",
      "0.782767438397\n",
      "The memory: \n",
      "[1.7433528739307069, 0.98110598715099589149]\n",
      "The nudge impact: \n",
      "0.118488331421\n"
     ]
    },
    {
     "data": {
      "image/png": "[encoded data removed]",
      "text/plain": [
       "<matplotlib.figure.Figure at 0x7f7bb5975c90>"
      ]
     },
     "metadata": {},
     "output_type": "display_data"
    }
   ],
   "source": [
    "import discrete_motif_measures as measures\n",
    "import discrete_motif_operations as operations\n",
    "\n",
    "# XOR\n",
    "motif = generator.generate_random(samplesize=1, no_nodes=2, numvalues=2)[0]\n",
    "motif.transition_table = [[1, 1, 0, 0],[1, 0, 1, 1], [0, 1, 1, 1], [0, 0, 0, 0]]\n",
    "motif.evaluate_motif()\n",
    "print(\"The states: \")\n",
    "for state in motif.states:\n",
    "    print(state)\n",
    "print(\"The correlations: \")\n",
    "print(motif.grn_vars[\"correlations\"])\n",
    "print(\"Transitions: \")\n",
    "print(motif.transition_table)\n",
    "\n",
    "print(\"The entropy: \")\n",
    "print(motif.entropy())\n",
    "print(\"The mutual information: \")\n",
    "print(measures.mutual_information(motif))\n",
    "print(\"The WMS information: \")\n",
    "print(measures.synergy_wms(motif))\n",
    "print(\"The middle ground synergy approximation: \")\n",
    "print(measures.synergy_middleground(motif))\n",
    "print(\"The memory: \")\n",
    "motif.reset_to_state(0)\n",
    "print(measures.mi_decay(motif, 1))\n",
    "motif.reset_to_state(0)\n",
    "operations.nudge_variable(motif, [0], 0.5, 'DJ')\n",
    "motif.evaluate_motif()\n",
    "print(\"The nudge impact: \")\n",
    "print(measures.hellinger(motif.states[1], motif.states[-1]))\n",
    "\n",
    "visualize.plot_mi_profile([motif], \"XOR\", mode='maximum')"
   ]
  },
  {
   "cell_type": "code",
   "execution_count": 9,
   "metadata": {
    "collapsed": false
   },
   "outputs": [
    {
     "name": "stdout",
     "output_type": "stream",
     "text": [
      "The states: \n",
      "[[ 0.02024021  0.21641751]\n",
      " [ 0.41186396  0.35147832]]\n",
      "[[ 0.020240208  0.21641751]\n",
      " [ 0.41186396  0.35147832]]\n",
      "The correlations: \n",
      "[[1.0, 0.12443320485879705], [0.12443320485879705, 1.0]]\n",
      "Transitions: \n",
      "[[1, 1, 1, 1], [1, 0, 1, 0], [0, 1, 0, 1], [0, 0, 0, 0]]\n",
      "The entropy: \n",
      "1.64904753232\n",
      "The mutual information: \n",
      "1.64904753232\n",
      "The WMS information: \n",
      "0.267670983056\n",
      "The middle ground synergy approximation: \n",
      "0.465030447199\n",
      "The memory: \n",
      "[1.6490475323209957, 1.6490475323209957078]\n",
      "The nudge impact: \n",
      "0.40462769104\n"
     ]
    },
    {
     "data": {
      "image/png": "[encoded data removed]",
      "text/plain": [
       "<matplotlib.figure.Figure at 0x7f7b79fc4d10>"
      ]
     },
     "metadata": {},
     "output_type": "display_data"
    }
   ],
   "source": [
    "# COPY\n",
    "motif = generator.generate_random(samplesize=1, no_nodes=2, numvalues=2)[0]\n",
    "motif.transition_table = [[1, 1, 1, 1],[1, 0, 1, 0], [0, 1, 0, 1], [0, 0, 0, 0]]\n",
    "motif.evaluate_motif()\n",
    "print(\"The states: \")\n",
    "for state in motif.states:\n",
    "    print(state)\n",
    "print(\"The correlations: \")\n",
    "print(motif.grn_vars[\"correlations\"])\n",
    "print(\"Transitions: \")\n",
    "print(motif.transition_table)\n",
    "\n",
    "print(\"The entropy: \")\n",
    "print(motif.entropy())\n",
    "print(\"The mutual information: \")\n",
    "print(measures.mutual_information(motif))\n",
    "print(\"The WMS information: \")\n",
    "print(measures.synergy_wms(motif))\n",
    "print(\"The middle ground synergy approximation: \")\n",
    "print(measures.synergy_middleground(motif))\n",
    "print(\"The memory: \")\n",
    "motif.reset_to_state(0)\n",
    "print(measures.mi_decay(motif, 1))\n",
    "motif.reset_to_state(0)\n",
    "operations.nudge_variable(motif, [0], 0.5, 'DJ')\n",
    "motif.evaluate_motif()\n",
    "print(\"The nudge impact: \")\n",
    "print(measures.hellinger(motif.states[1], motif.states[-1]))\n",
    "\n",
    "visualize.plot_mi_profile([motif], \"COPY\", mode='maximum')"
   ]
  },
  {
   "cell_type": "code",
   "execution_count": 10,
   "metadata": {
    "collapsed": false
   },
   "outputs": [
    {
     "name": "stdout",
     "output_type": "stream",
     "text": [
      "The states: \n",
      "[[ 0.26005013  0.01266623]\n",
      " [ 0.43559982  0.29168381]]\n",
      "[[ 0.27271637  0.0]\n",
      " [ 0.43559982  0.29168381]]\n",
      "The correlations: \n",
      "[[1.0, 0.06540211134881657], [0.06540211134881657, 1.0]]\n",
      "Transitions: \n",
      "[[1, 1, 1, 1], [1, 0, 1, 0], [0, 1, 0, 0], [0, 0, 0, 0]]\n",
      "The entropy: \n",
      "1.62587299843\n",
      "The mutual information: \n",
      "1.55194016046\n",
      "The WMS information: \n",
      "0.300299305004\n",
      "The middle ground synergy approximation: \n",
      "0.503451980928\n",
      "The memory: \n",
      "[1.6258729984277696, 1.5519401604585725757]\n",
      "The nudge impact: \n",
      "0.379055843467\n"
     ]
    },
    {
     "data": {
      "image/png": "[encoded data removed]",
      "text/plain": [
       "<matplotlib.figure.Figure at 0x7f7b79f6fd10>"
      ]
     },
     "metadata": {},
     "output_type": "display_data"
    }
   ],
   "source": [
    "# AND\n",
    "motif = generator.generate_random(samplesize=1, no_nodes=2, numvalues=2)[0]\n",
    "motif.transition_table = [[1, 1, 1, 1],[1, 0, 1, 0], [0, 1, 0, 0], [0, 0, 0, 0]]\n",
    "motif.evaluate_motif()\n",
    "print(\"The states: \")\n",
    "for state in motif.states:\n",
    "    print(state)\n",
    "print(\"The correlations: \")\n",
    "print(motif.grn_vars[\"correlations\"])\n",
    "print(\"Transitions: \")\n",
    "print(motif.transition_table)\n",
    "\n",
    "print(\"The entropy: \")\n",
    "print(motif.entropy())\n",
    "print(\"The mutual information: \")\n",
    "print(measures.mutual_information(motif))\n",
    "print(\"The WMS information: \")\n",
    "print(measures.synergy_wms(motif))\n",
    "print(\"The middle ground synergy approximation: \")\n",
    "print(measures.synergy_middleground(motif))\n",
    "print(\"The memory: \")\n",
    "motif.reset_to_state(0)\n",
    "print(measures.mi_decay(motif, 1))\n",
    "motif.reset_to_state(0)\n",
    "operations.nudge_variable(motif, [0], 0.5, 'DJ')\n",
    "motif.evaluate_motif()\n",
    "print(\"The nudge impact: \")\n",
    "print(measures.hellinger(motif.states[1], motif.states[-1]))\n",
    "\n",
    "visualize.plot_mi_profile([motif], \"AND\", mode='maximum')"
   ]
  },
  {
   "cell_type": "code",
   "execution_count": null,
   "metadata": {
    "collapsed": true
   },
   "outputs": [],
   "source": []
  }
 ],
 "metadata": {
  "kernelspec": {
   "display_name": "Python 2",
   "language": "python",
   "name": "python2"
  },
  "language_info": {
   "codemirror_mode": {
    "name": "ipython",
    "version": 2
   },
   "file_extension": ".py",
   "mimetype": "text/x-python",
   "name": "python",
   "nbconvert_exporter": "python",
   "pygments_lexer": "ipython2",
   "version": "2.7.13"
  }
 },
 "nbformat": 4,
 "nbformat_minor": 1
}
