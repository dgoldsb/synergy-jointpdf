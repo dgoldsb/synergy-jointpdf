{
 "cells": [
  {
   "cell_type": "markdown",
   "metadata": {},
   "source": [
    "# Imports\n",
    "\n",
    "First we import the discrete GRN dependencies."
   ]
  },
  {
   "cell_type": "code",
   "execution_count": 1,
   "metadata": {
    "collapsed": false
   },
   "outputs": [],
   "source": [
    "from discrete_motif import DiscreteGrnMotif\n",
    "import discrete_motif_functions as functions\n",
    "import discrete_motif_operations as operations\n",
    "import discrete_motif_measures as measures\n",
    "import discrete_motif_generator as generator\n",
    "import discrete_motif_plotting as visualize\n",
    "from IPython.display import HTML, display\n",
    "import tabulate"
   ]
  },
  {
   "cell_type": "markdown",
   "metadata": {},
   "source": [
    "# Data imports"
   ]
  },
  {
   "cell_type": "code",
   "execution_count": null,
   "metadata": {
    "collapsed": true
   },
   "outputs": [],
   "source": []
  },
  {
   "cell_type": "markdown",
   "metadata": {},
   "source": [
    "# Experiments\n",
    "\n",
    "## Correlation between synergy and nudge resilience in random motif\n",
    "\n",
    "First, we generate 50 random motifs of size 3. We use the WMS synergy, which is an upper bound."
   ]
  },
  {
   "cell_type": "code",
   "execution_count": 2,
   "metadata": {
    "collapsed": false,
    "scrolled": true
   },
   "outputs": [
    {
     "name": "stdout",
     "output_type": "stream",
     "text": [
      "average indegree is 2.87933333333\n",
      "failed to find the synergy\n",
      "failed to find the synergy\n",
      "failed to find the synergy\n",
      "failed to find the synergy\n",
      "failed to find the synergy\n",
      "failed to find the synergy\n",
      "failed to find the synergy\n"
     ]
    },
    {
     "data": {
      "image/png": "[encoded data removed]",
      "text/plain": [
       "<matplotlib.figure.Figure at 0x7f6df6fc50d0>"
      ]
     },
     "metadata": {},
     "output_type": "display_data"
    }
   ],
   "source": [
    "# create a network motif\n",
    "motifs, indegree_avg = generator.generate_motifs(samplesize=500, no_nodes=3, numvalues=2, conflict_rule='totaleffect')\n",
    "print(\"average indegree is \"+str(indegree_avg))\n",
    "\n",
    "# check which are high in synergy and have 0 impact\n",
    "#for motif in motifs:\n",
    "#    motif.evaluate_motif()\n",
    "#    if measures.synergy_middleground(motif) > 1:\n",
    "#        print(motif.grn_vars[\"rules\"])\n",
    "#        table = visualize.state_transition_table(motif, 'totaleffect')\n",
    "#        display(HTML(tabulate.tabulate(table, tablefmt='html')))\n",
    "\n",
    "# make a plot with WMS synergy\n",
    "visualize.scatterplot_synergy_nudgeimpact(motifs, 3, 0.5, measures.synergy_middleground)"
   ]
  },
  {
   "cell_type": "code",
   "execution_count": 4,
   "metadata": {
    "collapsed": false
   },
   "outputs": [
    {
     "name": "stdout",
     "output_type": "stream",
     "text": [
      "average indegree is 2.8\n",
      "failed to find the synergy\n",
      "failed to find the synergy\n",
      "failed to find the synergy\n"
     ]
    },
    {
     "data": {
      "image/png": "[encoded data removed]",
      "text/plain": [
       "<matplotlib.figure.Figure at 0x7f6e35fe4f50>"
      ]
     },
     "metadata": {},
     "output_type": "display_data"
    }
   ],
   "source": [
    "# create a network motif\n",
    "motifs, indegree_avg = generator.generate_motifs(samplesize=500, no_nodes=3, numvalues=5, conflict_rule='totaleffect')\n",
    "print(\"average indegree is \"+str(indegree_avg))\n",
    "\n",
    "# make a plot with WMS synergy\n",
    "visualize.scatterplot_synergy_nudgeimpact(motifs, 3, 0.5, measures.synergy_middleground)"
   ]
  },
  {
   "cell_type": "code",
   "execution_count": null,
   "metadata": {
    "collapsed": false
   },
   "outputs": [],
   "source": [
    "# create a network motif\n",
    "motifs, indegree_avg = generator.generate_motifs(samplesize=500, no_nodes=3, numvalues=3, conflict_rule='totaleffect')\n",
    "print(\"average indegree is \"+str(indegree_avg))\n",
    "\n",
    "# make a plot with WMS synergy\n",
    "visualize.scatterplot_synergy_nudgeimpact(motifs, 3, 0.5, measures.synergy_middleground)"
   ]
  },
  {
   "cell_type": "code",
   "execution_count": null,
   "metadata": {
    "collapsed": false
   },
   "outputs": [],
   "source": [
    "# create a network motif\n",
    "#motifs, indegree_avg = generator.generate_motifs(samplesize=1, no_nodes=3, numvalues=5, conflict_rule='totaleffect')\n",
    "#print(\"average indegree is \"+str(indegree_avg))\n",
    "\n",
    "# make a plot with WMS synergy\n",
    "#visualize.scatterplot_synergy_nudgeimpact(motifs, 3, 0.5, measures.synergy_quax)"
   ]
  },
  {
   "cell_type": "markdown",
   "metadata": {},
   "source": [
    "## More synergy in biological motif than in random"
   ]
  },
  {
   "cell_type": "code",
   "execution_count": null,
   "metadata": {
    "collapsed": true
   },
   "outputs": [],
   "source": []
  },
  {
   "cell_type": "markdown",
   "metadata": {},
   "source": [
    "## Real GRN motif scores better than a random motif in memory"
   ]
  },
  {
   "cell_type": "code",
   "execution_count": null,
   "metadata": {
    "collapsed": true
   },
   "outputs": [],
   "source": []
  },
  {
   "cell_type": "markdown",
   "metadata": {},
   "source": [
    "## Real GRN motif scores better than a random motif in single nudge resilience"
   ]
  },
  {
   "cell_type": "code",
   "execution_count": null,
   "metadata": {
    "collapsed": true
   },
   "outputs": [],
   "source": []
  },
  {
   "cell_type": "markdown",
   "metadata": {},
   "source": [
    "## Real GRN motif scores similar to random motif in multiple nudge resilience"
   ]
  },
  {
   "cell_type": "code",
   "execution_count": null,
   "metadata": {
    "collapsed": true
   },
   "outputs": [],
   "source": []
  },
  {
   "cell_type": "markdown",
   "metadata": {},
   "source": [
    "## There is a stronger than linear decrease in resilience when increasing the number of variables nudged in a biological GRN motif"
   ]
  },
  {
   "cell_type": "code",
   "execution_count": null,
   "metadata": {
    "collapsed": true
   },
   "outputs": [],
   "source": []
  }
 ],
 "metadata": {
  "kernelspec": {
   "display_name": "Python 2",
   "language": "python",
   "name": "python2"
  },
  "language_info": {
   "codemirror_mode": {
    "name": "ipython",
    "version": 2
   },
   "file_extension": ".py",
   "mimetype": "text/x-python",
   "name": "python",
   "nbconvert_exporter": "python",
   "pygments_lexer": "ipython2",
   "version": "2.7.13"
  }
 },
 "nbformat": 4,
 "nbformat_minor": 2
}
