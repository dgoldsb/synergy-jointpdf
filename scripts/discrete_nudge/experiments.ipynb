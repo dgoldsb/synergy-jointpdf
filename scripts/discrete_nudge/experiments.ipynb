{
 "cells": [
  {
   "cell_type": "markdown",
   "metadata": {},
   "source": [
    "# Imports\n",
    "\n",
    "First we import the discrete GRN dependencies."
   ]
  },
  {
   "cell_type": "code",
   "execution_count": null,
   "metadata": {
    "collapsed": false
   },
   "outputs": [],
   "source": [
    "from discrete_motif import DiscreteGrnMotif\n",
    "import discrete_motif_functions as functions\n",
    "import discrete_motif_operations as operations\n",
    "import discrete_motif_measures as measures\n",
    "import discrete_motif_generator as generator\n",
    "import discrete_motif_plotting as visualize\n",
    "from IPython.display import HTML, display\n",
    "import tabulate"
   ]
  },
  {
   "cell_type": "markdown",
   "metadata": {},
   "source": [
    "# Data imports and sample\n",
    "\n",
    "So far, we don't import data. In theory we want to compare three samples:\n",
    "\n",
    "1. Random transition tables of the system state\n",
    "2. Biological transition tables of the system state (still random samples, but with constraints)\n",
    "3. Real GRN motifs\n",
    "\n",
    "The last is difficult to draw a large sample from. Here we would import this sample, but I am focussing on the first two first."
   ]
  },
  {
   "cell_type": "code",
   "execution_count": null,
   "metadata": {
    "collapsed": true
   },
   "outputs": [],
   "source": [
    "# in this cell we generate samples\n",
    "\n",
    "sample_size = 20\n",
    "network_sizes = [2, 3, 4, 5]\n",
    "nudge_sizes = [0.1, 0.5, 1, 1.5]\n",
    "num_\n",
    "samples_rand = []\n",
    "\n",
    "# draw a few completely random samples, with different parameters\n",
    "for network_size in network_sizes:\n",
    "    # let's store it in a dict, with some meta information\n",
    "    sample = {}\n",
    "    sample[\"network_size\"] = network_size\n",
    "    sample[\"nudge_size\"] = nudge_size\n",
    "    sample[\"nudge_width\"] = nudge_width\n",
    "    sample[\"random_tables\"] = \n",
    "    sample[\"bio_tables\"] = generator.generate_motifs(samplesize, network_sizes, numvalues=3, conflict_rule='totaleffect')\n",
    "\n",
    "    # add to our set of samples\n",
    "    samples.append(sample)"
   ]
  },
  {
   "cell_type": "code",
   "execution_count": null,
   "metadata": {
    "collapsed": true
   },
   "outputs": [],
   "source": [
    "# we do not import real data yet"
   ]
  },
  {
   "cell_type": "markdown",
   "metadata": {},
   "source": [
    "# Experiments\n",
    "\n",
    "## Correlation between synergy and nudge resilience in a truly random motif\n",
    "\n",
    "First, we generate 50 random motifs of size 3. We use the WMS synergy, which is an upper bound."
   ]
  },
  {
   "cell_type": "code",
   "execution_count": null,
   "metadata": {
    "collapsed": false,
    "scrolled": true
   },
   "outputs": [],
   "source": [
    "# create a network motif\n",
    "motifs = generator.generate_random(samplesize=500, no_nodes=3, numvalues=3)\n",
    "\n",
    "# let's check the first one out\n",
    "motif_rand = motifs[0]\n",
    "motif_rand.evaluate_motif()\n",
    "print(\"The states: \")\n",
    "for state in motif_rand.states:\n",
    "    print(state)\n",
    "print(\"The correlations: \")\n",
    "print(motif_rand.grn_vars[\"correlations\"])\n",
    "print(\"Transitions: \")\n",
    "print(motif_rand.transition_table)\n",
    "\n",
    "# make a plot with WMS synergy\n",
    "visualize.scatterplot_synergy_nudgeimpact(motifs, 3, 0.5, measures.synergy_middleground)"
   ]
  },
  {
   "cell_type": "markdown",
   "metadata": {},
   "source": [
    "# Experiments\n",
    "\n",
    "## Correlation between synergy and nudge resilience in biological random motif\n",
    "\n",
    "We use the middle between the  WMS synergy, which is a lower bound, and the maximum individiual MI, which is an upper bound."
   ]
  },
  {
   "cell_type": "code",
   "execution_count": null,
   "metadata": {
    "collapsed": false
   },
   "outputs": [],
   "source": [
    "# create a network motif\n",
    "motifs, indegree_avg = generator.generate_motifs(samplesize=500, no_nodes=3, numvalues=3, conflict_rule='totaleffect')\n",
    "print(\"average indegree is \"+str(indegree_avg))\n",
    "\n",
    "# make a plot with WMS synergy\n",
    "visualize.scatterplot_synergy_nudgeimpact(motifs, 3, 0.5, measures.synergy_middleground)"
   ]
  },
  {
   "cell_type": "code",
   "execution_count": null,
   "metadata": {
    "collapsed": false
   },
   "outputs": [],
   "source": [
    "# create a network motif\n",
    "motifs, indegree_avg = generator.generate_motifs(samplesize=500, no_nodes=3, numvalues=3, conflict_rule='totaleffect')\n",
    "print(\"average indegree is \"+str(indegree_avg))\n",
    "\n",
    "# make a plot with WMS synergy\n",
    "visualize.scatterplot_synergy_nudgeimpact(motifs, 3, 0.5, measures.synergy_middleground)"
   ]
  },
  {
   "cell_type": "code",
   "execution_count": null,
   "metadata": {
    "collapsed": false
   },
   "outputs": [],
   "source": [
    "# create a network motif\n",
    "#motifs, indegree_avg = generator.generate_motifs(samplesize=1, no_nodes=3, numvalues=5, conflict_rule='totaleffect')\n",
    "#print(\"average indegree is \"+str(indegree_avg))\n",
    "\n",
    "# make a plot with WMS synergy\n",
    "#visualize.scatterplot_synergy_nudgeimpact(motifs, 3, 0.5, measures.synergy_quax)"
   ]
  },
  {
   "cell_type": "markdown",
   "metadata": {},
   "source": [
    "## More synergy in biological motif than in random"
   ]
  },
  {
   "cell_type": "code",
   "execution_count": null,
   "metadata": {
    "collapsed": true
   },
   "outputs": [],
   "source": []
  },
  {
   "cell_type": "markdown",
   "metadata": {},
   "source": [
    "## Real GRN motif scores better than a random motif in memory"
   ]
  },
  {
   "cell_type": "code",
   "execution_count": null,
   "metadata": {
    "collapsed": true
   },
   "outputs": [],
   "source": []
  },
  {
   "cell_type": "markdown",
   "metadata": {},
   "source": [
    "## Real GRN motif scores better than a random motif in single nudge resilience"
   ]
  },
  {
   "cell_type": "code",
   "execution_count": null,
   "metadata": {
    "collapsed": true
   },
   "outputs": [],
   "source": []
  },
  {
   "cell_type": "markdown",
   "metadata": {},
   "source": [
    "## Real GRN motif scores similar to random motif in multiple nudge resilience"
   ]
  },
  {
   "cell_type": "code",
   "execution_count": null,
   "metadata": {
    "collapsed": true
   },
   "outputs": [],
   "source": []
  },
  {
   "cell_type": "markdown",
   "metadata": {},
   "source": [
    "## There is a stronger than linear decrease in resilience when increasing the number of variables nudged in a biological GRN motif"
   ]
  },
  {
   "cell_type": "code",
   "execution_count": null,
   "metadata": {
    "collapsed": true
   },
   "outputs": [],
   "source": []
  }
 ],
 "metadata": {
  "kernelspec": {
   "display_name": "Python 2",
   "language": "python",
   "name": "python2"
  },
  "language_info": {
   "codemirror_mode": {
    "name": "ipython",
    "version": 2
   },
   "file_extension": ".py",
   "mimetype": "text/x-python",
   "name": "python",
   "nbconvert_exporter": "python",
   "pygments_lexer": "ipython2",
   "version": "2.7.13"
  }
 },
 "nbformat": 4,
 "nbformat_minor": 2
}
