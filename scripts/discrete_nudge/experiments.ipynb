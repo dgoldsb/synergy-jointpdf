{
 "cells": [
  {
   "cell_type": "markdown",
   "metadata": {},
   "source": [
    "# Imports\n",
    "\n",
    "First we import the discrete GRN dependencies."
   ]
  },
  {
   "cell_type": "code",
   "execution_count": null,
   "metadata": {
    "collapsed": false
   },
   "outputs": [],
   "source": [
    "from discrete_motif import DiscreteGrnMotif\n",
    "import discrete_motif_functions as functions\n",
    "import discrete_motif_measures as measures\n",
    "import discrete_motif_generator as generator\n",
    "import discrete_motif_operations as operations\n",
    "import discrete_motif_plotting as visualize\n",
    "from IPython.display import HTML, display\n",
    "import logging\n",
    "import os\n",
    "import pickle\n",
    "import random\n",
    "import tabulate\n",
    "import time\n",
    "from time import gmtime, strftime\n",
    "\n",
    "# t-sne imports\n",
    "import matplotlib.pyplot as plt\n",
    "import numpy as np\n",
    "from sklearn.manifold import TSNE\n",
    "\n",
    "# significance tests import\n",
    "import scipy.stats\n",
    "\n",
    "# set folders\n",
    "data_location = \"../../data\"\n",
    "log_location = \"../../log\"\n",
    "\n",
    "# logger\n",
    "mylogger = logging.getLogger('mylogger')\n",
    "handler1 = logging.FileHandler(filename=os.path.join(log_location, 'experiments_%s.log' % strftime(\"%Y-%m-%d %H:%M:%S\", gmtime())), mode='w')\n",
    "handler1.setLevel(logging.DEBUG)\n",
    "handler1.setFormatter(logging.Formatter('%(asctime)s [%(levelname)s] %(message)s'))\n",
    "mylogger.addHandler(handler1)"
   ]
  },
  {
   "cell_type": "markdown",
   "metadata": {},
   "source": [
    "# Settings"
   ]
  },
  {
   "cell_type": "code",
   "execution_count": null,
   "metadata": {
    "collapsed": false
   },
   "outputs": [],
   "source": [
    "experiment = -1\n",
    "\n",
    "if experiment == -1:\n",
    "    # experiment using the joint_pdf nudge\n",
    "    synergy_measure = measures.synergy_middleground\n",
    "    nudge_method = \"DJ\"\n",
    "    sample_size = 5\n",
    "    network_sizes = [2, 3]\n",
    "    logic_sizes = [2]\n",
    "    nudge_sizes = [0.5]\n",
    "if experiment == 0:\n",
    "    # experiment using the joint_pdf nudge\n",
    "    synergy_measure = measures.synergy_middleground\n",
    "    nudge_method = \"joint_pdf\"\n",
    "    sample_size = 20\n",
    "    network_sizes = [2, 3]\n",
    "    logic_sizes = [2]\n",
    "    nudge_sizes = [0.5]\n",
    "elif experiment == 1:\n",
    "    # experiment using the DJ-version of a nudge\n",
    "    synergy_measure = measures.synergy_middleground\n",
    "    nudge_method = \"DJ\"\n",
    "    sample_size = 500\n",
    "    network_sizes = [2, 3, 4, 5, 6]\n",
    "    logic_sizes = [2, 3, 4]\n",
    "    nudge_sizes = [0.1, 0.25, 0.5]\n"
   ]
  },
  {
   "cell_type": "markdown",
   "metadata": {},
   "source": [
    "# Data imports and sample\n",
    "\n",
    "So far, we don't import data. In theory we want to compare three samples:\n",
    "\n",
    "1. Random transition tables of the system state\n",
    "2. Biological transition tables of the system state (still random samples, but with constraints)\n",
    "3. Real GRN motifs\n",
    "\n",
    "The last is difficult to draw a large sample from. Here we would import this sample, but I am focussing on the first two first."
   ]
  },
  {
   "cell_type": "code",
   "execution_count": null,
   "metadata": {
    "collapsed": true
   },
   "outputs": [],
   "source": [
    "def loop_impacts(network_size, nudge_size, motif):\n",
    "    impacts = []\n",
    "    synergy = None\n",
    "    \n",
    "    # find the memory\n",
    "    decay = measures.mi_decay(motif, 1)\n",
    "    memory = decay[1] / decay[0]\n",
    "    \n",
    "    # try to find the synergy\n",
    "    try:\n",
    "        # find the synergy\n",
    "        entropy = decay[0]\n",
    "        motif.evaluate_motif()\n",
    "        synergy = synergy_measure(motif)\n",
    "\n",
    "        # normalize by dividing by the total entropy (not mutual information)\n",
    "        if float(entropy) != 0:\n",
    "            synergy = float(synergy)/float(entropy)\n",
    "        else:\n",
    "            raise ValueError(\"divide by zero avoided\")\n",
    "    except ValueError:\n",
    "        print(\"divide by zero avoided: failed to find the synergy\")\n",
    "        synergy = None\n",
    "    \n",
    "    # try to loop\n",
    "    for nudge_width in range(1, network_size + 1):\n",
    "        if not (nudge_method == 'joint_pdf' and nudge_width == network_size):\n",
    "            # sample a set to nudge\n",
    "            options = list(range(0, network_size))\n",
    "            random.shuffle(options)\n",
    "            targets = []\n",
    "            for i in range(0, nudge_width):\n",
    "                targets.append(options[i])\n",
    "            targets.sort()\n",
    "\n",
    "            # find the nudge impact\n",
    "            motif.reset_to_state(0)\n",
    "            motif.evaluate_motif()\n",
    "            motif.reset_to_state(0)\n",
    "            operations.nudge_variable(motif, targets, nudge_size, nudge_method)\n",
    "            motif.evaluate_motif()\n",
    "\n",
    "            # we compare the two evolved states\n",
    "            impact = measures.abs_diff(motif.states[-3], motif.states[-1])\n",
    "            impact_tuple = (nudge_width, impact)\n",
    "            impacts.append(impact_tuple)\n",
    "    \n",
    "    return synergy, impacts, memory"
   ]
  },
  {
   "cell_type": "code",
   "execution_count": null,
   "metadata": {
    "collapsed": true
   },
   "outputs": [],
   "source": [
    "def draw_sample(sample_size, network_size, logic_size, nudge_size):\n",
    "    # let's store it in a dict, with some meta information\n",
    "    print(\"Samping with %s nodes and %s-valued logic\" % (network_size, logic_size))\n",
    "    sample = {}\n",
    "    sample[\"network_size\"] = network_size\n",
    "    sample[\"logic_size\"] = logic_size\n",
    "    sample[\"nudge_size\"] = nudge_size\n",
    "    sample[\"random_tables\"] = generator.generate_random(sample_size, network_size, logic_size)\n",
    "    sample[\"bio_tables\"] = generator.generate_motifs(sample_size, network_size, logic_size)[0]\n",
    "\n",
    "    # set transition tables\n",
    "    # enrich the bio tables with synergy and a impact vector from 1 to system size\n",
    "    counter = 0\n",
    "    for motif in sample[\"bio_tables\"]:\n",
    "        motif.set_transition_table()\n",
    "\n",
    "        synergy, impacts, memory = loop_impacts(network_size, nudge_size, motif)\n",
    "\n",
    "        sample[\"bio_tables\"][counter] = (motif, synergy, impacts, memory)\n",
    "        counter += 1\n",
    "\n",
    "    # enrich the random tables\n",
    "    counter = 0\n",
    "    for motif in sample[\"random_tables\"]:\n",
    "        synergy, impacts, memory = loop_impacts(network_size, nudge_size, motif)\n",
    "\n",
    "        sample[\"random_tables\"][counter] = (motif, synergy, impacts, memory)\n",
    "        counter += 1\n",
    "    \n",
    "    return sample"
   ]
  },
  {
   "cell_type": "code",
   "execution_count": null,
   "metadata": {
    "collapsed": false,
    "scrolled": true
   },
   "outputs": [],
   "source": [
    "# in this cell we generate samples\n",
    "\n",
    "samples = []\n",
    "directory = \"../../data\"\n",
    "if not os.path.isdir(directory):\n",
    "    os.mkdir(directory)\n",
    "    \n",
    "# draw a few completely random samples, with different parameters\n",
    "for network_size in network_sizes:\n",
    "    for logic_size in logic_sizes:\n",
    "        for nudge_size in nudge_sizes:\n",
    "            mylogger.debug(\"sampling %d nodes, %d logic size, %f nudge size, %s as nudge_method, %s as synergy measure\" % (network_size, logic_size, nudge_size, nudge_method, synergy_measure))\n",
    "            start = time.time()\n",
    "            sample = draw_sample(sample_size, network_size, logic_size, nudge_size)\n",
    "            samples.append(sample)\n",
    "            \n",
    "            # save the data for future use/reruns\n",
    "            name = \"samples_n=%d_l=%d_e=%f_%s_%s_nosamples=%d.pkl\" % (network_size, logic_size, nudge_size, nudge_method, synergy_measure, sample_size)\n",
    "\n",
    "            with open(os.path.join(data_location, name), 'wb') as output:\n",
    "                pickle.dump(sample, output, pickle.HIGHEST_PROTOCOL)\n",
    "            end = time.time()\n",
    "            mylogger.debug(\"sampled %d motifs\" % sample_size)\n",
    "            mylogger.debug(\"sample took %d seconds\" % (end - start))\n",
    "            \n",
    "# we do not import real data yet"
   ]
  },
  {
   "cell_type": "code",
   "execution_count": null,
   "metadata": {
    "collapsed": false
   },
   "outputs": [],
   "source": [
    "# load data back, start from this step to use previous run\n",
    "samples = []\n",
    "for root, dirnames, filenames in os.walk(data_location):\n",
    "    for filename in filenames:\n",
    "        if filename.endswith('.pkl'):\n",
    "            with open(os.path.join(root, filename), 'rb') as input:\n",
    "                samples.append(pickle.load(input))"
   ]
  },
  {
   "cell_type": "markdown",
   "metadata": {},
   "source": [
    "# Data visualisation\n",
    "\n",
    "We use t-SNE to visualize our sample. What we see makes perfect sense: the biological motifs seem to be a subset of the sample space. In higher valued logic systems, the space becomes larger, making the sample size insufficient. As t-SNE also does clustering, it then starts to appear that we have two seperate sample, but this is simply the separation from the very similar biological motifs from the rest."
   ]
  },
  {
   "cell_type": "code",
   "execution_count": null,
   "metadata": {
    "collapsed": false,
    "scrolled": true
   },
   "outputs": [],
   "source": [
    "# x_train should be an array of N vectors of length M\n",
    "# where N is the sample size and M is the length of the combined new state of the transition table\n",
    "# we combine both the random and bio samples, but give them different colors\n",
    "\n",
    "for i in range(0, len(samples)):\n",
    "    x_train = []\n",
    "    y_color = []\n",
    "    labels = []\n",
    "    # the random tables\n",
    "    for sample in samples[i][\"random_tables\"]:\n",
    "        table = sample[0]\n",
    "        sample_vector = []\n",
    "        for row in table.transition_table:\n",
    "            sample_vector.extend(row[(len(row)/2):])\n",
    "        y_color.append(\"red\")\n",
    "        x_train.append(sample_vector)\n",
    "        labels.append(\"Random transition table\")\n",
    "\n",
    "    # the bio table\n",
    "    for sample in samples[i][\"bio_tables\"]:\n",
    "        motif = sample[0]\n",
    "        sample_vector = []\n",
    "        for row in motif.transition_table:\n",
    "            sample_vector.extend(row[(len(row)/2):])\n",
    "        y_color.append(\"blue\")\n",
    "        x_train.append(sample_vector)\n",
    "        labels.append(\"Biological transition table\")\n",
    " \n",
    "    x_train = np.array(x_train)\n",
    "    title = \"Two-dimensional embedding of transition tables with motif size %s and %s-valued logic\" % (samples[i][\"network_size\"], samples[i][\"logic_size\"])\n",
    "    x_train_embedded = TSNE(n_components=2, perplexity=10, early_exaggeration=1, verbose=0).fit_transform(x_train)\n",
    "    \n",
    "    results_location = \"../../data/n=%d_l=%d_e=%f_%s_%s_nosamples=%d\" % (samples[i][\"network_size\"], samples[i][\"logic_size\"], samples[i][\"nudge_size\"], nudge_method, synergy_measure, len(samples[i]))\n",
    "    if not os.path.isdir(results_location):\n",
    "        os.mkdir(results_location)\n",
    "    ilename = \"tsne2D.pdf\" \n",
    "    visualize.plot_scatter(x_train_embedded, y_color, labels, title, os.path.join(results_location, filename))"
   ]
  },
  {
   "cell_type": "markdown",
   "metadata": {},
   "source": [
    "# Experiments\n",
    "\n",
    "## Correlation between synergy and nudge resilience\n",
    "\n",
    "We use the middle between the  WMS synergy, which is a lower bound, and the maximum individiual MI, which is an upper bound."
   ]
  },
  {
   "cell_type": "code",
   "execution_count": null,
   "metadata": {
    "collapsed": false,
    "scrolled": true
   },
   "outputs": [],
   "source": [
    "for i in range(0, len(samples)):\n",
    "    for j in range(0, samples[i][\"network_size\"]):\n",
    "        x_values = []\n",
    "        colors = []\n",
    "        labels = []\n",
    "        title = \"Synergy vs. Nudge impact with motif size %s and %s-valued logic, \"\\\n",
    "                \"%s genes targeted, %s nudge size\" % \\\n",
    "                (samples[i][\"network_size\"], samples[i][\"logic_size\"], j+1, samples[i][\"nudge_size\"])\n",
    "        axes_labels = [\"Nudge impact\", \"Synergy\"]\n",
    "        # the random tables\n",
    "        for sample in samples[i][\"random_tables\"]:\n",
    "            if len(sample[2]) > 0:\n",
    "                if sample[1] is not None and sample[2][j][1] is not None:\n",
    "                    x_values.append([sample[2][j][1], sample[1]])\n",
    "                    colors.append(\"red\")\n",
    "                    labels.append(\"Random transition table\")\n",
    "\n",
    "        # the bio table\n",
    "        for sample in samples[i][\"bio_tables\"]:\n",
    "            if len(sample[2]) > 0:\n",
    "                if sample[1] is not None and sample[2][j][1] is not None:\n",
    "                    x_values.append([sample[2][j][1], sample[1]])\n",
    "                    colors.append(\"blue\")\n",
    "                    labels.append(\"Biological transition table\")\n",
    "            \n",
    "        x_values = np.array(x_values)\n",
    "        \n",
    "        results_location = \"../../data/n=%d_l=%d_e=%f_%s_%s_nosamples=%d\" % (samples[i][\"network_size\"], samples[i][\"logic_size\"], samples[i][\"nudge_size\"], nudge_method, synergy_measure, len(samples[i]))\n",
    "        filename = \"scatter2D_synergy_resilience.pdf\"\n",
    "        visualize.plot_scatter(x_values, colors, labels, title, os.path.join(results_location, filename), axes_labels)"
   ]
  },
  {
   "cell_type": "markdown",
   "metadata": {},
   "source": [
    "# Correlation Memory, Synergy and Nudge Impact\n",
    "\n",
    "We also make a 3D version, to see if we can differentiate clusters based on memory (and maybe identify clusters that have good memory, but also good resilience, or clusters that are not interesting because they are always the same state)."
   ]
  },
  {
   "cell_type": "code",
   "execution_count": null,
   "metadata": {
    "collapsed": false
   },
   "outputs": [],
   "source": [
    "for i in range(0, len(samples)):       \n",
    "    for j in range(0, samples[i][\"network_size\"]):\n",
    "        x_values = []\n",
    "        colors = []\n",
    "        labels = []\n",
    "        title = \"Synergy vs. Nudge impact with motif size %s and %s-valued logic, \"\\\n",
    "                \"%s genes targeted, %s nudge size\" % \\\n",
    "                (samples[i][\"network_size\"], samples[i][\"logic_size\"], j+1, samples[i][\"nudge_size\"])\n",
    "        axes_labels = [\"Nudge impact\", \"Synergy\", \"Memory\"]\n",
    "        # the random tables\n",
    "        for sample in samples[i][\"random_tables\"]:\n",
    "            if len(sample[2]) > 0:\n",
    "                if sample[1] is not None and sample[2][j][1] is not None:\n",
    "                    x_values.append([sample[2][j][1], sample[1], sample[3]])\n",
    "                    colors.append(\"red\")\n",
    "                    labels.append(\"Random transition table\")\n",
    "\n",
    "        # the bio table\n",
    "        for sample in samples[i][\"bio_tables\"]:\n",
    "            if len(sample[2]) > 0:\n",
    "                if sample[1] is not None and sample[2][j][1] is not None:\n",
    "                    x_values.append([sample[2][j][1], sample[1], sample[3]])\n",
    "                    colors.append(\"blue\")\n",
    "                    labels.append(\"Biological transition table\")\n",
    "            \n",
    "        x_values = np.array(x_values)\n",
    "        \n",
    "        results_location = \"../../data/n=%d_l=%d_e=%f_%s_%s_nosamples=%d\" % (samples[i][\"network_size\"], samples[i][\"logic_size\"], samples[i][\"nudge_size\"], nudge_method, synergy_measure, len(samples[i]))\n",
    "        filename = \"scatter3D_memory_synergy_resilience.pdf\"\n",
    "        \n",
    "        visualize.plot_scatter_3d(x_values, colors, labels, title, os.path.join(results_location, filename), axes_labels)"
   ]
  },
  {
   "cell_type": "markdown",
   "metadata": {},
   "source": [
    "## More synergy in biological motif than in random"
   ]
  },
  {
   "cell_type": "code",
   "execution_count": null,
   "metadata": {
    "collapsed": false
   },
   "outputs": [],
   "source": [
    "for i in range(0, len(samples)):\n",
    "    random_synergies = []\n",
    "    bio_synergies = []\n",
    "    for sample in samples[i][\"random_tables\"]:\n",
    "        if sample[1] is not None:\n",
    "            random_synergies.append(sample[1])\n",
    "    for sample in samples[i][\"bio_tables\"]:\n",
    "        if sample[1] is not None:\n",
    "            bio_synergies.append(sample[1])\n",
    "            \n",
    "    t, prob = scipy.stats.ttest_ind(random_synergies, bio_synergies)\n",
    "    random_mean = np.average(random_synergies)\n",
    "    bio_mean = np.average(bio_synergies)\n",
    "    \n",
    "    args = (samples[i][\"network_size\"], samples[i][\"logic_size\"], random_mean, bio_mean, t, prob)\n",
    "    if prob < 0.05:\n",
    "        result = \"Using %s nodes and %s-valued logic, we found a significant difference between the mean synergy\"\\\n",
    "                 \" in random transition tables (%s) and biological transition\"\\\n",
    "                 \" table (%s), with t=%s and p=%s.\\n\" % args\n",
    "    else:\n",
    "        result = \"Using %s nodes and %s-valued logic, we found no significant difference between the mean synergy\"\\\n",
    "                 \" in random transition tables (%s) and biological transition\"\\\n",
    "                 \" table (%s), with t=%s and p=%s.\\n\" % args\n",
    "        \n",
    "    print(result)\n",
    "    results_location = \"../../data/n=%d_l=%d_e=%f_%s_%s_nosamples=%d\" % (samples[i][\"network_size\"], samples[i][\"logic_size\"], samples[i][\"nudge_size\"], nudge_method, synergy_measure, len(samples[i]))\n",
    "\n",
    "    with open(os.path.join(results_location, \"more_synergy.txt\"), \"w\") as text_file:\n",
    "        text_file.write(result)"
   ]
  },
  {
   "cell_type": "markdown",
   "metadata": {},
   "source": [
    "## Real GRN motif scores better than a random motif in memory\n",
    "\n",
    "As a very simple memory measure, we use the mutual information between the first and second state, as a fraction of the largest of the two's entropies."
   ]
  },
  {
   "cell_type": "code",
   "execution_count": null,
   "metadata": {
    "collapsed": false
   },
   "outputs": [],
   "source": [
    "for i in range(0, len(samples)):\n",
    "    random_memories = []\n",
    "    bio_memories = []\n",
    "    for sample in samples[i][\"random_tables\"]:\n",
    "        if sample[3] is not None:\n",
    "            random_memories.append(float(sample[3]))\n",
    "    for sample in samples[i][\"bio_tables\"]:\n",
    "        if sample[3] is not None:\n",
    "            bio_memories.append(float(sample[3]))\n",
    "\n",
    "    random_mean = np.average(random_memories)\n",
    "    bio_mean = np.average(bio_memories)\n",
    "    t, prob = scipy.stats.ttest_ind(random_memories, bio_memories)\n",
    "    \n",
    "    args = (samples[i][\"network_size\"], samples[i][\"logic_size\"], random_mean, bio_mean, t, prob)\n",
    "    if prob < 0.05:\n",
    "        result = \"Using %s nodes and %s-valued logic, we found a significant difference between the mean memory\"\\\n",
    "                 \" in random transition tables (%s) and biological transition\"\\\n",
    "                 \" table (%s), with t=%s and p=%s.\\n\" % args\n",
    "    else:\n",
    "        result = \"Using %s nodes and %s-valued logic, we found no significant difference between the mean memory\"\\\n",
    "                 \" in random transition tables (%s) and biological transition\"\\\n",
    "                 \" table (%s), with t=%s and p=%s.\\n\" % args\n",
    "        \n",
    "    print(result)\n",
    "    results_location = \"../../data/n=%d_l=%d_e=%f_%s_%s_nosamples=%d\" % (samples[i][\"network_size\"], samples[i][\"logic_size\"], samples[i][\"nudge_size\"], nudge_method, synergy_measure, len(samples[i]))\n",
    "\n",
    "    with open(os.path.join(results_location, \"more_memory.txt\"), \"w\") as text_file:\n",
    "        text_file.write(result)"
   ]
  },
  {
   "cell_type": "markdown",
   "metadata": {},
   "source": [
    "## Real GRN motif scores better than a random motif in single nudge resilience"
   ]
  },
  {
   "cell_type": "code",
   "execution_count": null,
   "metadata": {
    "collapsed": false
   },
   "outputs": [],
   "source": [
    "for i in range(0, len(samples)):\n",
    "    random_synergies = []\n",
    "    bio_synergies = []\n",
    "    for sample in samples[i][\"random_tables\"]:\n",
    "        if sample[2][0][1] is not None:\n",
    "            random_synergies.append(sample[2][0][1])\n",
    "    for sample in samples[i][\"bio_tables\"]:\n",
    "        if sample[2][0][1] is not None:\n",
    "            bio_synergies.append(sample[2][0][1])\n",
    "            \n",
    "    t, prob = scipy.stats.ttest_ind(random_synergies, bio_synergies)\n",
    "    random_mean = np.average(random_synergies)\n",
    "    bio_mean = np.average(bio_synergies)\n",
    "    \n",
    "    args = (samples[i][\"network_size\"], samples[i][\"logic_size\"], samples[i][\"nudge_size\"], sample[2][0][0],random_mean, bio_mean, t, prob)\n",
    "    if prob < 0.05:\n",
    "        result = \"Using %s nodes, %s-valued logic, and %s-epsilon %s-target nudge, we found a significant\"\\\n",
    "                 \" difference between the mean nudge impact\"\\\n",
    "                 \" in random transition tables (%s) and biological transition\"\\\n",
    "                 \" table (%s), with t=%s and p=%s.\\n\" % args\n",
    "    else:\n",
    "        result = \"Using %s nodes, %s-valued logic, and %s-epsilon %s-target nudge, we found no significant\"\\\n",
    "                 \" difference between the mean nudge impact\"\\\n",
    "                 \" in random transition tables (%s) and biological transition\"\\\n",
    "                 \" table (%s), with t=%s and p=%s.\\n\" % args\n",
    "        \n",
    "    print(result)\n",
    "    results_location = \"../../data/n=%d_l=%d_e=%f_%s_%s_nosamples=%d\" % (samples[i][\"network_size\"], samples[i][\"logic_size\"], samples[i][\"nudge_size\"], nudge_method, synergy_measure, len(samples[i]))\n",
    "\n",
    "    with open(os.path.join(results_location, \"more_resilience_single.txt\"), \"w\") as text_file:\n",
    "        text_file.write(result)"
   ]
  },
  {
   "cell_type": "markdown",
   "metadata": {},
   "source": [
    "## Real GRN motif scores similar to random motif in multiple nudge resilience"
   ]
  },
  {
   "cell_type": "code",
   "execution_count": null,
   "metadata": {
    "collapsed": false
   },
   "outputs": [],
   "source": [
    "for i in range(0, len(samples)):\n",
    "    random_synergies = []\n",
    "    bio_synergies = []\n",
    "    for sample in samples[i][\"random_tables\"]:\n",
    "        if sample[2][-1][1] is not None:\n",
    "            random_synergies.append(sample[2][-1][1])\n",
    "    for sample in samples[i][\"bio_tables\"]:\n",
    "        if sample[2][-1][1] is not None:\n",
    "            bio_synergies.append(sample[2][-1][1])\n",
    "            \n",
    "    t, prob = scipy.stats.ttest_ind(random_synergies, bio_synergies)\n",
    "    random_mean = np.average(random_synergies)\n",
    "    bio_mean = np.average(bio_synergies)\n",
    "    \n",
    "    args = (samples[i][\"network_size\"], samples[i][\"logic_size\"], samples[i][\"nudge_size\"], sample[2][-1][0],random_mean, bio_mean, t, prob)\n",
    "    if prob < 0.05:\n",
    "        result = \"Using %s nodes, %s-valued logic, and %s-epsilon %s-target nudge, we found a significant\"\\\n",
    "                 \" difference between the mean nudge impact\"\\\n",
    "                 \" in random transition tables (%s) and biological transition\"\\\n",
    "                 \" table (%s), with t=%s and p=%s.\\n\" % args\n",
    "    else:\n",
    "        result = \"Using %s nodes, %s-valued logic, and %s-epsilon %s-target nudge, we found no significant\"\\\n",
    "                 \" difference between the mean nudge impact\"\\\n",
    "                 \" in random transition tables (%s) and biological transition\"\\\n",
    "                 \" table (%s), with t=%s and p=%s.\\n\" % args\n",
    "        \n",
    "    print(result)\n",
    "    results_location = \"../../data/n=%d_l=%d_e=%f_%s_%s_nosamples=%d\" % (samples[i][\"network_size\"], samples[i][\"logic_size\"], samples[i][\"nudge_size\"], nudge_method, synergy_measure, len(samples[i]))\n",
    "\n",
    "    with open(os.path.join(results_location, \"more_resilience_multiple.txt\"), \"w\") as text_file:\n",
    "        text_file.write(result)"
   ]
  },
  {
   "cell_type": "markdown",
   "metadata": {},
   "source": [
    "## There is a stronger than linear decrease in resilience when increasing the number of variables nudged in a biological GRN motif"
   ]
  },
  {
   "cell_type": "code",
   "execution_count": null,
   "metadata": {
    "collapsed": false
   },
   "outputs": [],
   "source": [
    "for i in range(0, len(samples)):\n",
    "    values = []\n",
    "    colors = []\n",
    "    labels = []\n",
    "    for j in range(0, samples[i][\"network_size\"]):\n",
    "        x_value = j\n",
    "        y_values = []\n",
    "        # the random tables\n",
    "        for sample in samples[i][\"random_tables\"]:\n",
    "            if sample[2][j][1] is not None:\n",
    "                y_values.append(sample[2][j][1])\n",
    "        colors.append(\"red\")\n",
    "        labels.append(\"Random transition table\")\n",
    "        values.append([x_value, y_values])\n",
    "\n",
    "        x_value = j\n",
    "        y_values = []\n",
    "        # the bio table\n",
    "        for sample in samples[i][\"bio_tables\"]:\n",
    "            if sample[2][j][1] is not None:\n",
    "                y_values.append(sample[2][j][1])\n",
    "        colors.append(\"blue\")\n",
    "        labels.append(\"Biological transition table\")\n",
    "        values.append([x_value, y_values])\n",
    "        \n",
    "    title = \"Nudge impact vs. Nudge width with motif size %s and %s-valued logic, nudge size of %s\" % (samples[i][\"network_size\"], samples[i][\"logic_size\"], samples[i][\"nudge_size\"])\n",
    "    axes_labels = [\"Nudge impact\",\"Synergy\"]\n",
    "        \n",
    "    results_location = \"../../data/n=%d_l=%d_e=%f_%s_%s_nosamples=%d\" % (samples[i][\"network_size\"], samples[i][\"logic_size\"], samples[i][\"nudge_size\"], nudge_method, synergy_measure, len(samples[i]))\n",
    "    filename = os.path.join(results_location, \"memory.pdf\")\n",
    "    \n",
    "    visualize.plot_line(values, colors, labels, title, filename=os.path.join(results_location, filename), axes_labels=None)"
   ]
  },
  {
   "cell_type": "code",
   "execution_count": null,
   "metadata": {
    "collapsed": true
   },
   "outputs": [],
   "source": []
  },
  {
   "cell_type": "code",
   "execution_count": null,
   "metadata": {
    "collapsed": true
   },
   "outputs": [],
   "source": []
  },
  {
   "cell_type": "code",
   "execution_count": null,
   "metadata": {
    "collapsed": true
   },
   "outputs": [],
   "source": []
  }
 ],
 "metadata": {
  "kernelspec": {
   "display_name": "Python 2",
   "language": "python",
   "name": "python2"
  },
  "language_info": {
   "codemirror_mode": {
    "name": "ipython",
    "version": 2
   },
   "file_extension": ".py",
   "mimetype": "text/x-python",
   "name": "python",
   "nbconvert_exporter": "python",
   "pygments_lexer": "ipython2",
   "version": "2.7.13"
  }
 },
 "nbformat": 4,
 "nbformat_minor": 2
}
