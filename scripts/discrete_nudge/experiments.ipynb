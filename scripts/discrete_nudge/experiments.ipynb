{
 "cells": [
  {
   "cell_type": "markdown",
   "metadata": {},
   "source": [
    "# Imports\n",
    "\n",
    "First we import the discrete GRN dependencies."
   ]
  },
  {
   "cell_type": "code",
   "execution_count": 4,
   "metadata": {
    "collapsed": false
   },
   "outputs": [],
   "source": [
    "from discrete_motif import DiscreteGrnMotif\n",
    "import discrete_motif_functions as functions\n",
    "import discrete_motif_measures as measures\n",
    "import discrete_motif_generator as generator\n",
    "import discrete_motif_plotting as visualize\n",
    "from IPython.display import HTML, display\n",
    "import random\n",
    "import tabulate\n",
    "\n",
    "# t-sne imports\n",
    "import matplotlib.pyplot as plt\n",
    "import numpy as np\n",
    "from sklearn.manifold import TSNE\n",
    "\n",
    "# significance tests import\n",
    "import scipy.stats"
   ]
  },
  {
   "cell_type": "markdown",
   "metadata": {},
   "source": [
    "# Data imports and sample\n",
    "\n",
    "So far, we don't import data. In theory we want to compare three samples:\n",
    "\n",
    "1. Random transition tables of the system state\n",
    "2. Biological transition tables of the system state (still random samples, but with constraints)\n",
    "3. Real GRN motifs\n",
    "\n",
    "The last is difficult to draw a large sample from. Here we would import this sample, but I am focussing on the first two first."
   ]
  },
  {
   "cell_type": "code",
   "execution_count": 2,
   "metadata": {
    "collapsed": true
   },
   "outputs": [],
   "source": [
    "def loop_impacts(network_size, nudge_size, motif):\n",
    "    impacts = []\n",
    "    synergy = None\n",
    "    \n",
    "    # try to find the synergy\n",
    "    try:\n",
    "        # find the synergy\n",
    "        motif.evaluate_motif()\n",
    "        mutual_information = measures.mutual_information(motif)\n",
    "        synergy = synergy_measure(motif)\n",
    "\n",
    "        # normalize by dividing by the total mutual information\n",
    "        if float(mutual_information) != 0:\n",
    "            synergy = float(synergy)/float(mutual_information)\n",
    "        else:\n",
    "            raise ValueError(\"divide by zero avoided\")\n",
    "    except ValueError:\n",
    "        print(\"failed to find the synergy\")\n",
    "        synergy = None\n",
    "    \n",
    "    # try to loop\n",
    "    for nudge_width in range(1, network_size + 1):\n",
    "        try:\n",
    "            # sample a set to nudge\n",
    "            options = list(range(0, network_size))\n",
    "            random.shuffle(options)\n",
    "            targets = []\n",
    "            for i in range(0, nudge_width):\n",
    "                targets.append(options[i])\n",
    "            targets.sort()\n",
    "            \n",
    "            # find the nudge impact\n",
    "            motif.reset_to_state(0)\n",
    "            motif.evaluate_motif()\n",
    "            motif.reset_to_state(0)\n",
    "            motif.nudge(targets, [], nudge_size)\n",
    "            motif.evaluate_motif()\n",
    "            \n",
    "            # we compare the two evolved states\n",
    "            impact = measures.abs_diff(motif.states[-3], motif.states[-1])\n",
    "            impact_tuple = (nudge_width, impact)\n",
    "            impacts.append(impact_tuple)\n",
    "        except ValueError:\n",
    "            print(\"failed to find the impact\")\n",
    "            impacts.append((nudge_width, None)) \n",
    "    \n",
    "    return synergy, impacts"
   ]
  },
  {
   "cell_type": "code",
   "execution_count": 3,
   "metadata": {
    "collapsed": false
   },
   "outputs": [
    {
     "name": "stdout",
     "output_type": "stream",
     "text": [
      "Samping with 2 nodes and 2-valued logic\n",
      "failed to find the synergy\n",
      "Samping with 2 nodes and 3-valued logic\n",
      "failed to find the synergy\n",
      "Samping with 2 nodes and 4-valued logic\n",
      "Samping with 3 nodes and 2-valued logic\n",
      "Samping with 3 nodes and 3-valued logic\n",
      "Samping with 3 nodes and 4-valued logic\n",
      "Samping with 4 nodes and 2-valued logic\n",
      "could not find satisfying minus state randomly\n",
      "[ 1.  1.]\n",
      "0\n",
      "[ 0.08640938  0.09460188]\n"
     ]
    },
    {
     "ename": "IndexError",
     "evalue": "arrays used as indices must be of integer (or boolean) type",
     "output_type": "error",
     "traceback": [
      "\u001b[0;31m--------------------------------------------------------------------------\u001b[0m",
      "\u001b[0;31mIndexError\u001b[0m                               Traceback (most recent call last)",
      "\u001b[0;32m<ipython-input-3-700651e7e9f9>\u001b[0m in \u001b[0;36m<module>\u001b[0;34m()\u001b[0m\n\u001b[1;32m     36\u001b[0m                 \u001b[0mmotif\u001b[0m\u001b[0;34m.\u001b[0m\u001b[0mset_transition_table\u001b[0m\u001b[0;34m(\u001b[0m\u001b[0;34m)\u001b[0m\u001b[0;34m\u001b[0m\u001b[0m\n\u001b[1;32m     37\u001b[0m \u001b[0;34m\u001b[0m\u001b[0m\n\u001b[0;32m---> 38\u001b[0;31m                 \u001b[0msynergy\u001b[0m\u001b[0;34m,\u001b[0m \u001b[0mimpacts\u001b[0m \u001b[0;34m=\u001b[0m \u001b[0mloop_impacts\u001b[0m\u001b[0;34m(\u001b[0m\u001b[0mnetwork_size\u001b[0m\u001b[0;34m,\u001b[0m \u001b[0mnudge_size\u001b[0m\u001b[0;34m,\u001b[0m \u001b[0mmotif\u001b[0m\u001b[0;34m)\u001b[0m\u001b[0;34m\u001b[0m\u001b[0m\n\u001b[0m\u001b[1;32m     39\u001b[0m \u001b[0;34m\u001b[0m\u001b[0m\n\u001b[1;32m     40\u001b[0m                 \u001b[0msample\u001b[0m\u001b[0;34m[\u001b[0m\u001b[0;34m\"bio_tables\"\u001b[0m\u001b[0;34m]\u001b[0m\u001b[0;34m[\u001b[0m\u001b[0mcounter\u001b[0m\u001b[0;34m]\u001b[0m \u001b[0;34m=\u001b[0m \u001b[0;34m(\u001b[0m\u001b[0mmotif\u001b[0m\u001b[0;34m,\u001b[0m \u001b[0msynergy\u001b[0m\u001b[0;34m,\u001b[0m \u001b[0mimpacts\u001b[0m\u001b[0;34m)\u001b[0m\u001b[0;34m\u001b[0m\u001b[0m\n",
      "\u001b[0;32m<ipython-input-2-71b7299e1c8a>\u001b[0m in \u001b[0;36mloop_impacts\u001b[0;34m(network_size, nudge_size, motif)\u001b[0m\n\u001b[1;32m     26\u001b[0m             \u001b[0mmotif\u001b[0m\u001b[0;34m.\u001b[0m\u001b[0mevaluate_motif\u001b[0m\u001b[0;34m(\u001b[0m\u001b[0;34m)\u001b[0m\u001b[0;34m\u001b[0m\u001b[0m\n\u001b[1;32m     27\u001b[0m             \u001b[0mmotif\u001b[0m\u001b[0;34m.\u001b[0m\u001b[0mreset_to_state\u001b[0m\u001b[0;34m(\u001b[0m\u001b[0;36m0\u001b[0m\u001b[0;34m)\u001b[0m\u001b[0;34m\u001b[0m\u001b[0m\n\u001b[0;32m---> 28\u001b[0;31m             \u001b[0moperations\u001b[0m\u001b[0;34m.\u001b[0m\u001b[0mnudge_variable\u001b[0m\u001b[0;34m(\u001b[0m\u001b[0mmotif\u001b[0m\u001b[0;34m,\u001b[0m \u001b[0mnudge_width\u001b[0m\u001b[0;34m,\u001b[0m \u001b[0mnudge_size\u001b[0m\u001b[0;34m)\u001b[0m\u001b[0;34m\u001b[0m\u001b[0m\n\u001b[0m\u001b[1;32m     29\u001b[0m             \u001b[0mmotif\u001b[0m\u001b[0;34m.\u001b[0m\u001b[0mevaluate_motif\u001b[0m\u001b[0;34m(\u001b[0m\u001b[0;34m)\u001b[0m\u001b[0;34m\u001b[0m\u001b[0m\n\u001b[1;32m     30\u001b[0m \u001b[0;34m\u001b[0m\u001b[0m\n",
      "\u001b[0;32m/home/dylan/Repositories/synergy-jointpdf/scripts/discrete_nudge/discrete_motif_operations.py\u001b[0m in \u001b[0;36mnudge_variable\u001b[0;34m(motif, no_impacted, size)\u001b[0m\n\u001b[1;32m    175\u001b[0m         \u001b[0mshuffle\u001b[0m\u001b[0;34m(\u001b[0m\u001b[0mpossible_labels\u001b[0m\u001b[0;34m)\u001b[0m\u001b[0;34m\u001b[0m\u001b[0m\n\u001b[1;32m    176\u001b[0m         \u001b[0mlabels\u001b[0m\u001b[0;34m.\u001b[0m\u001b[0mappend\u001b[0m\u001b[0;34m(\u001b[0m\u001b[0mpossible_labels\u001b[0m\u001b[0;34m.\u001b[0m\u001b[0mpop\u001b[0m\u001b[0;34m(\u001b[0m\u001b[0;34m)\u001b[0m\u001b[0;34m)\u001b[0m\u001b[0;34m\u001b[0m\u001b[0m\n\u001b[0;32m--> 177\u001b[0;31m     \u001b[0mnew_joint\u001b[0m \u001b[0;34m=\u001b[0m \u001b[0mnudge_distribution_non_local_non_causal\u001b[0m\u001b[0;34m(\u001b[0m\u001b[0mjoint\u001b[0m\u001b[0;34m,\u001b[0m \u001b[0mlabels\u001b[0m\u001b[0;34m,\u001b[0m \u001b[0msize\u001b[0m\u001b[0;34m)\u001b[0m\u001b[0;34m\u001b[0m\u001b[0m\n\u001b[0m\u001b[1;32m    178\u001b[0m     \u001b[0mmotif\u001b[0m\u001b[0;34m.\u001b[0m\u001b[0mjoint_probabilities\u001b[0m\u001b[0;34m.\u001b[0m\u001b[0mjoint_probabilities\u001b[0m \u001b[0;34m=\u001b[0m \u001b[0mnew_joint\u001b[0m\u001b[0;34m\u001b[0m\u001b[0m\n",
      "\u001b[0;32m/home/dylan/Repositories/synergy-jointpdf/scripts/discrete_nudge/discrete_motif_operations.py\u001b[0m in \u001b[0;36mnudge_distribution_non_local_non_causal\u001b[0;34m(joint, nudge_labels, nudge_size, nudge_option)\u001b[0m\n\u001b[1;32m    149\u001b[0m         \u001b[0mflattened_dist\u001b[0m \u001b[0;34m=\u001b[0m \u001b[0mnudged_joint\u001b[0m\u001b[0;34m[\u001b[0m\u001b[0mit\u001b[0m\u001b[0;34m.\u001b[0m\u001b[0mmulti_index\u001b[0m\u001b[0;34m]\u001b[0m\u001b[0;34m.\u001b[0m\u001b[0mflatten\u001b[0m\u001b[0;34m(\u001b[0m\u001b[0;34m)\u001b[0m\u001b[0;34m\u001b[0m\u001b[0m\n\u001b[1;32m    150\u001b[0m         nudged_state = np.reshape(\n\u001b[0;32m--> 151\u001b[0;31m             \u001b[0mmutate_array_bigger_zero\u001b[0m\u001b[0;34m(\u001b[0m\u001b[0mflattened_dist\u001b[0m\u001b[0;34m,\u001b[0m \u001b[0mit\u001b[0m\u001b[0;34m.\u001b[0m\u001b[0mvalue\u001b[0m\u001b[0;34m,\u001b[0m \u001b[0mnudge_option\u001b[0m\u001b[0;34m)\u001b[0m\u001b[0;34m,\u001b[0m\u001b[0;34m\u001b[0m\u001b[0m\n\u001b[0m\u001b[1;32m    152\u001b[0m             \u001b[0mnudged_joint\u001b[0m\u001b[0;34m[\u001b[0m\u001b[0mit\u001b[0m\u001b[0;34m.\u001b[0m\u001b[0mmulti_index\u001b[0m\u001b[0;34m]\u001b[0m\u001b[0;34m.\u001b[0m\u001b[0mshape\u001b[0m\u001b[0;34m\u001b[0m\u001b[0m\n\u001b[1;32m    153\u001b[0m         )\n",
      "\u001b[0;32m/home/dylan/Repositories/synergy-jointpdf/scripts/discrete_nudge/discrete_motif_operations.py\u001b[0m in \u001b[0;36mmutate_array_bigger_zero\u001b[0;34m(arr, nudge_size, option)\u001b[0m\n\u001b[1;32m     69\u001b[0m     \"\"\"\n\u001b[1;32m     70\u001b[0m     \u001b[0mnudged_array\u001b[0m \u001b[0;34m=\u001b[0m \u001b[0mnp\u001b[0m\u001b[0;34m.\u001b[0m\u001b[0mcopy\u001b[0m\u001b[0;34m(\u001b[0m\u001b[0marr\u001b[0m\u001b[0;34m)\u001b[0m\u001b[0;34m\u001b[0m\u001b[0m\n\u001b[0;32m---> 71\u001b[0;31m     \u001b[0mminus_states\u001b[0m \u001b[0;34m=\u001b[0m \u001b[0mselect_subset\u001b[0m\u001b[0;34m(\u001b[0m\u001b[0mnudged_array\u001b[0m\u001b[0;34m,\u001b[0m \u001b[0mnudge_size\u001b[0m\u001b[0;34m)\u001b[0m\u001b[0;34m\u001b[0m\u001b[0m\n\u001b[0m\u001b[1;32m     72\u001b[0m     \u001b[0mminus_mask\u001b[0m \u001b[0;34m=\u001b[0m \u001b[0mminus_states\u001b[0m \u001b[0;34m==\u001b[0m \u001b[0;36m1\u001b[0m\u001b[0;34m\u001b[0m\u001b[0m\n\u001b[1;32m     73\u001b[0m     \u001b[0mplus_mask\u001b[0m \u001b[0;34m=\u001b[0m \u001b[0mminus_states\u001b[0m \u001b[0;34m==\u001b[0m \u001b[0;36m0\u001b[0m\u001b[0;34m\u001b[0m\u001b[0m\n",
      "\u001b[0;32m/home/dylan/Repositories/synergy-jointpdf/scripts/discrete_nudge/discrete_motif_operations.py\u001b[0m in \u001b[0;36mselect_subset\u001b[0;34m(arr, threshold)\u001b[0m\n\u001b[1;32m     36\u001b[0m             \u001b[0;32mprint\u001b[0m\u001b[0;34m(\u001b[0m\u001b[0mindex\u001b[0m\u001b[0;34m)\u001b[0m\u001b[0;34m\u001b[0m\u001b[0m\n\u001b[1;32m     37\u001b[0m             \u001b[0;32mprint\u001b[0m\u001b[0;34m(\u001b[0m\u001b[0marr\u001b[0m\u001b[0;34m)\u001b[0m\u001b[0;34m\u001b[0m\u001b[0m\n\u001b[0;32m---> 38\u001b[0;31m             \u001b[0;32mif\u001b[0m \u001b[0marr\u001b[0m\u001b[0;34m[\u001b[0m\u001b[0mminus_states\u001b[0m\u001b[0;34m]\u001b[0m \u001b[0;34m-\u001b[0m \u001b[0marr\u001b[0m\u001b[0;34m[\u001b[0m\u001b[0mindex\u001b[0m\u001b[0;34m]\u001b[0m \u001b[0;34m>\u001b[0m \u001b[0mthreshold\u001b[0m\u001b[0;34m:\u001b[0m\u001b[0;34m\u001b[0m\u001b[0m\n\u001b[0m\u001b[1;32m     39\u001b[0m                 \u001b[0mminus_states\u001b[0m\u001b[0;34m[\u001b[0m\u001b[0mindex\u001b[0m\u001b[0;34m]\u001b[0m \u001b[0;34m=\u001b[0m \u001b[0;36m0\u001b[0m \u001b[0;31m# was selected, which does not exist, I hope this is correct\u001b[0m\u001b[0;34m\u001b[0m\u001b[0m\n\u001b[1;32m     40\u001b[0m \u001b[0;34m\u001b[0m\u001b[0m\n",
      "\u001b[0;31mIndexError\u001b[0m: arrays used as indices must be of integer (or boolean) type"
     ]
    }
   ],
   "source": [
    "# in this cell we generate samples\n",
    "\n",
    "samples = []\n",
    "sample_size = 40\n",
    "network_sizes = [2, 3, 4, 5]\n",
    "logic_sizes = [2, 3, 4]\n",
    "nudge_sizes = [0.2]\n",
    "samples_rand = []\n",
    "\n",
    "# set the synergy measure\n",
    "synergy_measure = measures.synergy_middleground\n",
    "\n",
    "# TODO: check my biological generation setting defaults\n",
    "# TODO: remove or check the synergy-impact scatter for consistency\n",
    "\n",
    "# draw a few completely random samples, with different parameters\n",
    "for network_size in network_sizes:\n",
    "    for logic_size in logic_sizes:\n",
    "        for nudge_size in nudge_sizes:\n",
    "            # let's store it in a dict, with some meta information\n",
    "            print(\"Samping with %s nodes and %s-valued logic\" % (network_size, logic_size))\n",
    "            sample = {}\n",
    "            sample[\"network_size\"] = network_size\n",
    "            sample[\"logic_size\"] = logic_size\n",
    "            sample[\"random_tables\"] = generator.generate_random(sample_size, network_size, logic_size)\n",
    "            sample[\"bio_tables\"] = generator.generate_motifs(sample_size, network_size, logic_size)[0]\n",
    "            \n",
    "            # set transition tables\n",
    "            # enrich the bio tables with synergy and a impact vector from 1 to system size\n",
    "            \n",
    "            # TODO: need to use targets\n",
    "            # TODO: also turn this into a method\n",
    "            \n",
    "            counter = 0\n",
    "            for motif in sample[\"bio_tables\"]:\n",
    "                motif.set_transition_table()\n",
    "                \n",
    "                synergy, impacts = loop_impacts(network_size, nudge_size, motif)\n",
    "                \n",
    "                sample[\"bio_tables\"][counter] = (motif, synergy, impacts)\n",
    "                counter += 1\n",
    "                \n",
    "            # enrich the random tables\n",
    "            counter = 0\n",
    "            for motif in sample[\"random_tables\"]:\n",
    "                synergy, impacts = loop_impacts(network_size, nudge_size, motif)\n",
    "                \n",
    "                sample[\"random_tables\"][counter] = (motif, synergy, impacts)\n",
    "                counter += 1\n",
    "\n",
    "        # add to our set of samples\n",
    "        samples.append(sample)"
   ]
  },
  {
   "cell_type": "code",
   "execution_count": null,
   "metadata": {
    "collapsed": true
   },
   "outputs": [],
   "source": [
    "# we do not import real data yet"
   ]
  },
  {
   "cell_type": "markdown",
   "metadata": {},
   "source": [
    "# Data visualisation\n",
    "\n",
    "We use t-SNE to visualize our sample. What we see makes perfect sense: the biological motifs seem to be a subset of the sample space. In higher valued logic systems, the space becomes larger, making the sample size insufficient. As t-SNE also does clustering, it then starts to appear that we have two seperate sample, but this is simply the separation from the very similar biological motifs from the rest."
   ]
  },
  {
   "cell_type": "code",
   "execution_count": null,
   "metadata": {
    "collapsed": false,
    "scrolled": true
   },
   "outputs": [],
   "source": [
    "# x_train should be an array of N vectors of length M\n",
    "# where N is the sample size and M is the length of the combined new state of the transition table\n",
    "# we combine both the random and bio samples, but give them different colors\n",
    "\n",
    "for i in range(0, len(samples)):\n",
    "    x_train = []\n",
    "    y_color = []\n",
    "    labels = []\n",
    "    # the random tables\n",
    "    for sample in samples[i][\"random_tables\"]:\n",
    "        table = sample[0]\n",
    "        sample_vector = []\n",
    "        for row in table.transition_table:\n",
    "            sample_vector.extend(row[(len(row)/2):])\n",
    "        y_color.append(\"red\")\n",
    "        x_train.append(sample_vector)\n",
    "        labels.append(\"Random transition table\")\n",
    "\n",
    "    # the bio table\n",
    "    for sample in samples[i][\"bio_tables\"]:\n",
    "        motif = sample[0]\n",
    "        sample_vector = []\n",
    "        for row in motif.transition_table:\n",
    "            sample_vector.extend(row[(len(row)/2):])\n",
    "        y_color.append(\"blue\")\n",
    "        x_train.append(sample_vector)\n",
    "        labels.append(\"Biological transition table\")\n",
    "\n",
    "    x_train = np.array(x_train)\n",
    "    title = \"Two-dimensional embedding of transition tables with motif size %s and %s-valued logic\" % (samples[i][\"network_size\"], samples[i][\"logic_size\"])\n",
    "    x_train_embedded = TSNE(n_components=2, perplexity=40, early_exaggeration=1, verbose=0).fit_transform(x_train)\n",
    "    visualize.plot_scatter(x_train_embedded, y_color, labels, title)"
   ]
  },
  {
   "cell_type": "markdown",
   "metadata": {},
   "source": [
    "# Experiments\n",
    "\n",
    "## Correlation between synergy and single nudge resilience in a truly random motif\n",
    "\n",
    "We use the WMS synergy, which is an upper bound."
   ]
  },
  {
   "cell_type": "code",
   "execution_count": null,
   "metadata": {
    "collapsed": true
   },
   "outputs": [],
   "source": [
    "for i in range(0, len(samples)):\n",
    "    # a;ready dod\n",
    "    \n",
    "    "
   ]
  },
  {
   "cell_type": "markdown",
   "metadata": {},
   "source": [
    "## Correlation between synergy and wide nudge resilience in a truly random motif\n",
    "\n",
    "We also do a wide nudge."
   ]
  },
  {
   "cell_type": "code",
   "execution_count": null,
   "metadata": {
    "collapsed": true
   },
   "outputs": [],
   "source": []
  },
  {
   "cell_type": "code",
   "execution_count": null,
   "metadata": {
    "collapsed": false,
    "scrolled": true
   },
   "outputs": [],
   "source": [
    "# let's check the first one out\n",
    "motif_rand = motifs[0]\n",
    "motif_rand.evaluate_motif()\n",
    "print(\"The states: \")\n",
    "for state in motif_rand.states:\n",
    "    print(state)\n",
    "print(\"The correlations: \")\n",
    "print(motif_rand.grn_vars[\"correlations\"])\n",
    "print(\"Transitions: \")\n",
    "print(motif_rand.transition_table)\n",
    "\n",
    "# make a plot with WMS synergy\n",
    "visualize.scatterplot_synergy_nudgeimpact(motifs, 3, 0.5, measures.synergy_middleground)"
   ]
  },
  {
   "cell_type": "markdown",
   "metadata": {},
   "source": [
    "# Experiments\n",
    "\n",
    "## Correlation between synergy and nudge resilience in biological random motif\n",
    "\n",
    "We use the middle between the  WMS synergy, which is a lower bound, and the maximum individiual MI, which is an upper bound."
   ]
  },
  {
   "cell_type": "code",
   "execution_count": null,
   "metadata": {
    "collapsed": false
   },
   "outputs": [],
   "source": [
    "# create a network motif\n",
    "motifs, indegree_avg = generator.generate_motifs(samplesize=500, no_nodes=3, numvalues=3, conflict_rule='totaleffect')\n",
    "print(\"average indegree is \"+str(indegree_avg))\n",
    "\n",
    "# make a plot with WMS synergy\n",
    "visualize.scatterplot_synergy_nudgeimpact(motifs, 3, 0.5, measures.synergy_middleground)"
   ]
  },
  {
   "cell_type": "code",
   "execution_count": null,
   "metadata": {
    "collapsed": false
   },
   "outputs": [],
   "source": [
    "# create a network motif\n",
    "motifs, indegree_avg = generator.generate_motifs(samplesize=500, no_nodes=3, numvalues=3, conflict_rule='totaleffect')\n",
    "print(\"average indegree is \"+str(indegree_avg))\n",
    "\n",
    "# make a plot with WMS synergy\n",
    "visualize.scatterplot_synergy_nudgeimpact(motifs, 3, 0.5, measures.synergy_middleground)"
   ]
  },
  {
   "cell_type": "code",
   "execution_count": null,
   "metadata": {
    "collapsed": false
   },
   "outputs": [],
   "source": [
    "# create a network motif\n",
    "#motifs, indegree_avg = generator.generate_motifs(samplesize=1, no_nodes=3, numvalues=5, conflict_rule='totaleffect')\n",
    "#print(\"average indegree is \"+str(indegree_avg))\n",
    "\n",
    "# make a plot with WMS synergy\n",
    "#visualize.scatterplot_synergy_nudgeimpact(motifs, 3, 0.5, measures.synergy_quax)"
   ]
  },
  {
   "cell_type": "markdown",
   "metadata": {},
   "source": [
    "## More synergy in biological motif than in random"
   ]
  },
  {
   "cell_type": "code",
   "execution_count": null,
   "metadata": {
    "collapsed": true
   },
   "outputs": [],
   "source": [
    "#scipy.stats.ttest_ind"
   ]
  },
  {
   "cell_type": "markdown",
   "metadata": {},
   "source": [
    "## Real GRN motif scores better than a random motif in memory"
   ]
  },
  {
   "cell_type": "code",
   "execution_count": null,
   "metadata": {
    "collapsed": true
   },
   "outputs": [],
   "source": [
    "# define memory measure\n",
    "\n",
    "# scipy.stats.ttest_ind"
   ]
  },
  {
   "cell_type": "markdown",
   "metadata": {},
   "source": [
    "## Real GRN motif scores better than a random motif in single nudge resilience"
   ]
  },
  {
   "cell_type": "code",
   "execution_count": null,
   "metadata": {
    "collapsed": true
   },
   "outputs": [],
   "source": [
    "#scipy.stats.ttest_ind"
   ]
  },
  {
   "cell_type": "markdown",
   "metadata": {},
   "source": [
    "## Real GRN motif scores similar to random motif in multiple nudge resilience"
   ]
  },
  {
   "cell_type": "code",
   "execution_count": null,
   "metadata": {
    "collapsed": true
   },
   "outputs": [],
   "source": [
    "#scipy.stats.ttest_ind"
   ]
  },
  {
   "cell_type": "markdown",
   "metadata": {},
   "source": [
    "## There is a stronger than linear decrease in resilience when increasing the number of variables nudged in a biological GRN motif"
   ]
  },
  {
   "cell_type": "code",
   "execution_count": null,
   "metadata": {
    "collapsed": true
   },
   "outputs": [],
   "source": [
    "# make sure we do the nudge impact for every\n",
    "\n",
    "# make lineplot with error bars"
   ]
  }
 ],
 "metadata": {
  "kernelspec": {
   "display_name": "Python 2",
   "language": "python",
   "name": "python2"
  },
  "language_info": {
   "codemirror_mode": {
    "name": "ipython",
    "version": 2
   },
   "file_extension": ".py",
   "mimetype": "text/x-python",
   "name": "python",
   "nbconvert_exporter": "python",
   "pygments_lexer": "ipython2",
   "version": "2.7.13"
  }
 },
 "nbformat": 4,
 "nbformat_minor": 2
}
