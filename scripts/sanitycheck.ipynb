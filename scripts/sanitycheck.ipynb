{
 "cells": [
  {
   "cell_type": "markdown",
   "metadata": {},
   "source": [
    "# Find biological motifs\n",
    "\n",
    "To make sure our sampling strategy makes sense, we manually enter a few biological motifs.\n",
    "We then look for these motifs in a large random sample, as well as in a large biological random sample.\n",
    "If everything is correct, we should find the real motifs more frequently in the latter sample than in the former."
   ]
  },
  {
   "cell_type": "code",
   "execution_count": null,
   "metadata": {
    "collapsed": true
   },
   "outputs": [],
   "source": [
    "from discrete_motif import DiscreteGrnMotif\n",
    "import discrete_motif_functions as functions\n",
    "import discrete_motif_generator as generator\n",
    "import discrete_motif_plotting as visualize\n",
    "import discrete_motif_measures as measures\n",
    "import discrete_motif_operations as operations\n",
    "from IPython.display import HTML, display\n",
    "import tabulate\n",
    "\n",
    "from copy import deepcopy\n",
    "import numpy as np\n",
    "import os\n",
    "import pickle\n",
    "import random"
   ]
  },
  {
   "cell_type": "code",
   "execution_count": null,
   "metadata": {
    "collapsed": true
   },
   "outputs": [],
   "source": [
    "# define a few real motifs\n",
    "real_motifs_dict = {}\n",
    "\n",
    "# make a motif\n",
    "motif = generator.generate_random(1, 2, 2)[0]\n",
    "motif.transition_table = [[1, 1, 1, 0], [1, 0, 1, 0], [0, 1, 0, 1], [0, 0, 0, 1]]\n",
    "motifs = []\n",
    "motifs.append(motif)\n",
    "real_motifs_dict[\"22\"] = motifs\n",
    "\n",
    "# make a motif\n",
    "motif = generator.generate_random(1, 2, 3)[0]\n",
    "motif.transition_table = [[2, 2, 2, 0], [2, 1, 2, 0], [2, 0, 2, 0], [1, 2, 1, 0], [1, 1, 1, 0], [1, 0, 1, 0], [0, 2, 0, 1], [0, 1, 0, 1], [0, 0, 0, 1]]\n",
    "motifs = []\n",
    "motifs.append(motif)\n",
    "real_motifs_dict[\"23\"] = motifs\n",
    "\n",
    "# make a motif\n",
    "motifs = []\n",
    "motif = generator.generate_random(1, 3, 3)[0]\n",
    "motif.transition_table = [[2, 2, 2, 2, 2, 0], [2, 2, 1, 2, 2, 0], [2, 2, 0, 2, 2, 0], [2, 1, 2, 2, 1, 0], [2, 1, 1, 2, 1, 0], [2, 1, 0, 2, 1, 0], [2, 0, 2, 2, 0, 0], [2, 0, 1, 2, 0, 0], [2, 0, 0, 2, 0, 0], [1, 2, 2, 1, 2, 0], [1, 2, 1, 1, 2, 0], [1, 2, 0, 1, 2, 0], [1, 1, 2, 1, 1, 0], [1, 1, 1, 1, 1, 0], [1, 1, 0, 1, 1, 0], [1, 0, 2, 1, 0, 1], [1, 0, 1, 1, 0, 1], [1, 0, 0, 1, 0, 1], [0, 2, 2, 0, 2, 0], [0, 2, 1, 0, 2, 0], [0, 2, 0, 0, 2, 0], [0, 1, 2, 0, 1, 0], [0, 1, 1, 0, 1, 0], [0, 1, 0, 0, 1, 0], [0, 0, 2, 0, 0, 2], [0, 0, 1, 0, 0, 2], [0, 0, 0, 0, 0, 2]]\n",
    "motifs.append(motif)\n",
    "real_motifs_dict[\"33\"] = motifs"
   ]
  },
  {
   "cell_type": "code",
   "execution_count": null,
   "metadata": {
    "collapsed": false
   },
   "outputs": [],
   "source": [
    "# generate some big samples to find these in    \n",
    "sample_size = 1000\n",
    "samples = []\n",
    "\n",
    "# 22\n",
    "network_size = 2\n",
    "logic_size = 2\n",
    "sample = []\n",
    "sample.append(generator.generate_random(sample_size, network_size, logic_size))\n",
    "sample.append(generator.generate_motifs(sample_size, network_size, logic_size)[0])\n",
    "sample.append([real_motifs_dict[\"22\"]])\n",
    "samples.append(sample)\n",
    "\n",
    "# 23\n",
    "network_size = 2\n",
    "logic_size = 3\n",
    "sample = []\n",
    "sample.append(generator.generate_random(sample_size, network_size, logic_size))\n",
    "sample.append(generator.generate_motifs(sample_size, network_size, logic_size)[0])\n",
    "sample.append([real_motifs_dict[\"23\"]])\n",
    "samples.append(sample)\n",
    "\n",
    "# 33\n",
    "network_size = 3\n",
    "logic_size = 3\n",
    "sample = []\n",
    "sample.append(generator.generate_random(sample_size, network_size, logic_size))\n",
    "sample.append(generator.generate_motifs(sample_size, network_size, logic_size)[0])\n",
    "sample.append([real_motifs_dict[\"33\"]])\n",
    "samples.append(sample)"
   ]
  },
  {
   "cell_type": "code",
   "execution_count": null,
   "metadata": {
    "collapsed": false
   },
   "outputs": [],
   "source": [
    "for i in range(0, len(samples)):\n",
    "    args = (samples[i][0][0].grn_vars[\"gene_cnt\"], samples[i][0][0].numvalues)\n",
    "    print(\"Using %s nodes, %s-valued logic\" % args)\n",
    "    sample_random = samples[i][0]\n",
    "    sample_bio = samples[i][1]\n",
    "    real_motifs = samples[i][2]\n",
    "\n",
    "    bio_total = 0\n",
    "    random_total = 0\n",
    "    bio_matched_motifs = []\n",
    "    random_matched_motifs = []\n",
    "    \n",
    "    for real_motif in real_motifs:\n",
    "        real_motif = real_motif[0]\n",
    "        random_matches = real_motif.find_in_sample(sample_random, strict=False)\n",
    "        bio_matches = real_motif.find_in_sample(sample_bio, strict=False)\n",
    "\n",
    "        if len(random_matches) > 0:\n",
    "            random_total += len(random_matches)\n",
    "            random_matched_motifs.append(real_motif)\n",
    "        if len(bio_matches) > 0:\n",
    "            bio_total += len(bio_matches)\n",
    "            bio_matched_motifs.append(real_motif)\n",
    "\n",
    "    args = (bio_total, len(bio_matched_motifs), len(real_motifs))\n",
    "    print(\"Found %d matches in the bio sample, for a total of %d out of %d real motifs.\" % args)\n",
    "    args = (random_total, len(random_matched_motifs), len(real_motifs))\n",
    "    print(\"Found %d matches in the random sample, for a total of %d out of %d real motifs.\" % args)"
   ]
  },
  {
   "cell_type": "code",
   "execution_count": null,
   "metadata": {
    "collapsed": true
   },
   "outputs": [],
   "source": [
    "def loop_impacts(network_size, nudge_size, motif):\n",
    "    # find the memory\n",
    "    memory = measures.normalized_memory(motif)\n",
    "    \n",
    "    # try to find the synergy\n",
    "    synergy = measures.normalized_synergy(motif, synergy_measure)\n",
    "    \n",
    "    # try to loop\n",
    "    impacts = []\n",
    "    for nudge_width in range(1, network_size + 1):\n",
    "        if not (nudge_method == 'joint_pdf' and nudge_width == network_size):\n",
    "            # we compare the two evolved states\n",
    "            impact = measures.average_nudge_impact(motif, nudge_width, nudge_size, nudge_method)\n",
    "            impact_tuple = (nudge_width, impact)\n",
    "            impacts.append(impact_tuple)\n",
    "    \n",
    "    return (synergy, impacts, memory)"
   ]
  },
  {
   "cell_type": "code",
   "execution_count": null,
   "metadata": {
    "collapsed": false
   },
   "outputs": [],
   "source": [
    "synergy_measure = measures.synergy_middleground\n",
    "nudge_method = \"DJ\"\n",
    "for key, value in real_motifs_dict.iteritems():\n",
    "    for motif in value:\n",
    "        \n",
    "        args = loop_impacts(motif.numvariables, 0.25, motif)\n",
    "        \n",
    "        print(\"Synergy: \" + str(args[0]))\n",
    "        print(\"Memory: \" + str(args[2]))\n",
    "        print(\"Impacts...\")\n",
    "        print(args[1])\n",
    "        print(\"Transition table...\")\n",
    "        print(motif.transition_table)"
   ]
  },
  {
   "cell_type": "markdown",
   "metadata": {},
   "source": [
    "# Finding cycles in our samples"
   ]
  },
  {
   "cell_type": "code",
   "execution_count": null,
   "metadata": {
    "collapsed": false
   },
   "outputs": [],
   "source": [
    "cycletest = DiscreteGrnMotif(1, 2, 'random')\n",
    "cycletest.grn_vars[\"gene_cnt\"] = 2\n",
    "cycletest.grn_vars[\"conflict_rule\"] = 'totaleffect'\n",
    "cycletest.append_rule([0], [0], functions.minus)\n",
    "cycletest.append_rule([1], [1], functions.minus)\n",
    "cycletest.append_rule([0], [1], functions.plus)\n",
    "cycletest.append_rule([1], [0], functions.plus)\n",
    "cycletest.construct_grn()\n",
    "cycletest.evaluate_motif(genes=[0, 1])\n",
    "print(\"The states: \")\n",
    "for state in cycletest.states:\n",
    "    print(state)\n",
    "table = visualize.state_transition_table(cycletest, 'totaleffect')\n",
    "display(HTML(tabulate.tabulate(table, tablefmt='html')))\n",
    "print(cycletest.transition_table)\n",
    "print(cycletest.set_transition_table())\n",
    "print(cycletest.transition_table)\n",
    "print(cycletest.is_cyclical())"
   ]
  },
  {
   "cell_type": "code",
   "execution_count": null,
   "metadata": {
    "collapsed": false
   },
   "outputs": [],
   "source": [
    "cycletest = DiscreteGrnMotif(1, 2, 'random')\n",
    "cycletest.grn_vars[\"gene_cnt\"] = 3\n",
    "cycletest.grn_vars[\"conflict_rule\"] = 'totaleffect'\n",
    "cycletest.append_rule([0], [0], functions.minus)\n",
    "cycletest.append_rule([1], [1], functions.minus)\n",
    "cycletest.append_rule([2], [2], functions.minus)\n",
    "cycletest.append_rule([0], [1], functions.plus)\n",
    "cycletest.append_rule([1], [2], functions.plus)\n",
    "cycletest.append_rule([2], [0], functions.plus)\n",
    "cycletest.construct_grn()\n",
    "cycletest.evaluate_motif(genes=[0, 1, 2])\n",
    "print(\"The states: \")\n",
    "for state in cycletest.states:\n",
    "    print(state)\n",
    "table = visualize.state_transition_table(cycletest, 'totaleffect')\n",
    "display(HTML(tabulate.tabulate(table, tablefmt='html')))\n",
    "print(cycletest.transition_table)\n",
    "print(cycletest.set_transition_table())\n",
    "print(cycletest.transition_table)\n",
    "print(cycletest.is_cyclical())"
   ]
  },
  {
   "cell_type": "code",
   "execution_count": null,
   "metadata": {
    "collapsed": false
   },
   "outputs": [],
   "source": [
    "for i in range(0, len(samples)):\n",
    "    args = (samples[i][0][0].grn_vars[\"gene_cnt\"], samples[i][0][0].numvalues)\n",
    "    print(\"Using %s nodes, %s-valued logic\" % args)\n",
    "    random_cycles = []\n",
    "    bio_cycles = []\n",
    "    for sample in samples[i][0]:\n",
    "        lengths = [len(x) for x in sample.is_cyclical()]\n",
    "        if len(lengths) == 0:\n",
    "            lengths = [0]\n",
    "        avg_length = int(np.max(lengths))\n",
    "        random_cycles.append(avg_length)\n",
    "    for sample in samples[i][1]:\n",
    "        lengths = [len(x) for x in sample.is_cyclical()]\n",
    "        if len(lengths) == 0:\n",
    "            lengths = [0]\n",
    "        avg_length = int(np.max(lengths))\n",
    "        bio_cycles.append(avg_length)\n",
    "    \n",
    "    colors = [\"r\", \"b\"]\n",
    "    labels = [\"random\", \"biological random\"]\n",
    "    title = \"Distribution of cycle lengths (0 if no cycle is present)\"\n",
    "    axes_labels = [\"Maximum length of cycle in motif\", \"Number of occurences\"]\n",
    "    visualize.plot_bar([random_cycles, bio_cycles], colors, labels, title, axes_labels=axes_labels)"
   ]
  },
  {
   "cell_type": "markdown",
   "metadata": {
    "collapsed": true
   },
   "source": [
    "# Examine a few motifs (draw)"
   ]
  },
  {
   "cell_type": "code",
   "execution_count": null,
   "metadata": {
    "collapsed": false
   },
   "outputs": [],
   "source": [
    "for i in range(0, len(samples)):\n",
    "    args = (samples[i][0][0].grn_vars[\"gene_cnt\"], samples[i][0][0].numvalues)\n",
    "    print(\"Using %s nodes, %s-valued logic\" % args)\n",
    "    counter = 0\n",
    "    for sample in samples[i][1]:\n",
    "        print(\"\\nExamining sample %d\" % counter)\n",
    "        print(sample.grn_vars[\"rules\"])\n",
    "        counter += 1\n",
    "        if counter ==  3:\n",
    "            break"
   ]
  },
  {
   "cell_type": "markdown",
   "metadata": {},
   "source": [
    "# Examine a few initial matrices"
   ]
  },
  {
   "cell_type": "code",
   "execution_count": null,
   "metadata": {
    "collapsed": false
   },
   "outputs": [],
   "source": [
    "for i in range(0, len(samples)):\n",
    "    args = (samples[i][0][0].grn_vars[\"gene_cnt\"], samples[i][0][0].numvalues)\n",
    "    print(\"Using %s nodes, %s-valued logic\" % args)\n",
    "    counter = 0\n",
    "    for sample in samples[i][1]:\n",
    "        print(\"\\nExamining sample %d\\n\" % counter)\n",
    "        print(sample.grn_vars[\"correlations\"])\n",
    "        print(\"\\n\")\n",
    "        print(sample.states[0])\n",
    "        counter += 1\n",
    "        if counter == 1:\n",
    "            break\n",
    "    counter = 0\n",
    "    for sample in samples[i][0]:\n",
    "        print(\"\\nExamining sample %d\\n\" % counter)\n",
    "        print(sample.grn_vars[\"correlations\"])\n",
    "        print(\"\\n\")\n",
    "        print(sample.states[0])\n",
    "        counter += 1\n",
    "        if counter == 1:\n",
    "            break"
   ]
  },
  {
   "cell_type": "markdown",
   "metadata": {
    "collapsed": true
   },
   "source": [
    "# Known cases (transition tables)\n",
    "\n",
    "Valideer measures op wat random motieven: synergy/and/copy."
   ]
  },
  {
   "cell_type": "code",
   "execution_count": null,
   "metadata": {
    "collapsed": false
   },
   "outputs": [],
   "source": [
    "import discrete_motif_measures as measures\n",
    "import discrete_motif_operations as operations\n",
    "\n",
    "\n",
    "# XOR\n",
    "motif = generator.generate_random(samplesize=1, no_nodes=2, numvalues=2)[0]\n",
    "motif.transition_table = [[1, 1, 0, 0],[1, 0, 1, 1], [0, 1, 1, 1], [0, 0, 0, 0]]\n",
    "\n",
    "# experiment: set to equal chances\n",
    "motif.joint_probabilities.joint_probabilities = np.array([[0.25, 0.25], [0.25, 0.25]])\n",
    "\n",
    "motif.evaluate_motif()\n",
    "unnudged = motif.states[-1]\n",
    "print(\"The states: \")\n",
    "for state in motif.states:\n",
    "    print(state)\n",
    "print(\"The correlations: \")\n",
    "print(motif.grn_vars[\"correlations\"])\n",
    "print(\"Transitions: \")\n",
    "print(motif.transition_table)\n",
    "\n",
    "print(\"The entropy: \")\n",
    "print(motif.entropy())\n",
    "print(\"The mutual information: \")\n",
    "print(measures.mutual_information(motif))\n",
    "print(\"The WMS information: \")\n",
    "print(measures.synergy_wms(motif))\n",
    "print(\"The middle ground synergy approximation: \")\n",
    "print(measures.synergy_middleground(motif))\n",
    "print(\"The memory: \")\n",
    "motif.reset_to_state(0)\n",
    "print(measures.mi_decay(motif, 1))\n",
    "print(measures.normalized_memory(motif))\n",
    "motif.reset_to_state(0)\n",
    "operations.nudge_variable(motif, [0], 0.25, 'DJ')\n",
    "motif.evaluate_motif()\n",
    "print(\"The nudge impact: \")\n",
    "print(unnudged)\n",
    "print(motif.states[-1])\n",
    "print(measures.hellinger(unnudged, motif.states[-1]))\n",
    "print(measures.average_nudge_impact(motif, 1, 0.25, 'DJ'))\n",
    "\n",
    "visualize.plot_mi_profile([motif], \"XOR\", mode='maximum')"
   ]
  },
  {
   "cell_type": "code",
   "execution_count": null,
   "metadata": {
    "collapsed": false
   },
   "outputs": [],
   "source": [
    "# COPY\n",
    "motif = generator.generate_random(samplesize=1, no_nodes=2, numvalues=2)[0]\n",
    "motif.transition_table = [[1, 1, 1, 1],[1, 0, 1, 0], [0, 1, 0, 1], [0, 0, 0, 0]]\n",
    "\n",
    "# experiment: set to equal chances\n",
    "motif.joint_probabilities.joint_probabilities = np.array([[0.25, 0.25], [0.25, 0.25]])\n",
    "\n",
    "motif.evaluate_motif()\n",
    "unnudged = motif.states[-1]\n",
    "print(\"The states: \")\n",
    "for state in motif.states:\n",
    "    print(state)\n",
    "print(\"The correlations: \")\n",
    "print(motif.grn_vars[\"correlations\"])\n",
    "print(\"Transitions: \")\n",
    "print(motif.transition_table)\n",
    "\n",
    "print(\"The entropy: \")\n",
    "print(motif.entropy())\n",
    "print(\"The mutual information: \")\n",
    "print(measures.mutual_information(motif))\n",
    "print(\"The WMS information: \")\n",
    "print(measures.synergy_wms(motif))\n",
    "print(\"The middle ground synergy approximation: \")\n",
    "print(measures.synergy_middleground(motif))\n",
    "print(\"The memory: \")\n",
    "motif.reset_to_state(0)\n",
    "print(measures.mi_decay(motif, 1))\n",
    "print(measures.normalized_memory(motif))\n",
    "motif.reset_to_state(0)\n",
    "operations.nudge_variable(motif, [0], 0.25, 'DJ')\n",
    "motif.evaluate_motif()\n",
    "print(\"The nudge impact: \")\n",
    "print(unnudged)\n",
    "print(motif.states[-1])\n",
    "print(measures.hellinger(unnudged, motif.states[-1]))\n",
    "print(measures.average_nudge_impact(motif, 1, 0.25, 'DJ'))\n",
    "\n",
    "visualize.plot_mi_profile([motif], \"COPY\", mode='maximum')"
   ]
  },
  {
   "cell_type": "code",
   "execution_count": null,
   "metadata": {
    "collapsed": false
   },
   "outputs": [],
   "source": [
    "# AND\n",
    "motif = generator.generate_random(samplesize=1, no_nodes=2, numvalues=2)[0]\n",
    "motif.transition_table = [[1, 1, 1, 1],[1, 0, 1, 0], [0, 1, 0, 0], [0, 0, 0, 0]]\n",
    "\n",
    "# experiment: set to equal chances\n",
    "motif.joint_probabilities.joint_probabilities = np.array([[0.25, 0.25], [0.25, 0.25]])\n",
    "\n",
    "motif.evaluate_motif()\n",
    "unnudged = motif.states[-1]\n",
    "print(\"The states: \")\n",
    "for state in motif.states:\n",
    "    print(state)\n",
    "print(\"The correlations: \")\n",
    "print(motif.grn_vars[\"correlations\"])\n",
    "print(\"Transitions: \")\n",
    "print(motif.transition_table)\n",
    "\n",
    "print(\"The entropy: \")\n",
    "print(motif.entropy())\n",
    "print(\"The mutual information: \")\n",
    "print(measures.mutual_information(motif))\n",
    "print(\"The WMS information: \")\n",
    "print(measures.synergy_wms(motif))\n",
    "print(\"The middle ground synergy approximation: \")\n",
    "print(measures.synergy_middleground(motif))\n",
    "print(\"The memory: \")\n",
    "motif.reset_to_state(0)\n",
    "print(measures.mi_decay(motif, 1))\n",
    "print(measures.normalized_memory(motif))\n",
    "motif.reset_to_state(0)\n",
    "operations.nudge_variable(motif, [0], 0.25, 'DJ')\n",
    "motif.evaluate_motif()\n",
    "print(\"The nudge impact: \")\n",
    "print(unnudged)\n",
    "print(motif.states[-1])\n",
    "print(measures.hellinger(unnudged, motif.states[-1]))\n",
    "print(measures.average_nudge_impact(motif, 1, 0.25, 'DJ'))\n",
    "\n",
    "visualize.plot_mi_profile([motif], \"AND\", mode='maximum')"
   ]
  },
  {
   "cell_type": "code",
   "execution_count": null,
   "metadata": {
    "collapsed": true
   },
   "outputs": [],
   "source": []
  }
 ],
 "metadata": {
  "kernelspec": {
   "display_name": "Python 2",
   "language": "python",
   "name": "python2"
  },
  "language_info": {
   "codemirror_mode": {
    "name": "ipython",
    "version": 2
   },
   "file_extension": ".py",
   "mimetype": "text/x-python",
   "name": "python",
   "nbconvert_exporter": "python",
   "pygments_lexer": "ipython2",
   "version": "2.7.13"
  }
 },
 "nbformat": 4,
 "nbformat_minor": 1
}
